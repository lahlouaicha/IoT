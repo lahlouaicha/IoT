{
 "cells": [
  {
   "cell_type": "markdown",
   "metadata": {
    "id": "s5azQn28ygZC"
   },
   "source": [
    "### Projet réalisé par :\n",
    "Mahmoud Benboubker\\\n",
    "Nicolas Calligaro\\\n",
    "Aïcha Lalhou\n"
   ]
  },
  {
   "cell_type": "markdown",
   "metadata": {
    "id": "QDq3_t-y9FIz"
   },
   "source": [
    "\n",
    "# Explication de la méthode\n",
    "\n",
    "Nous utiliser plusieurs modèles et les combiner pour prédire les latitudes et longitude des différents messages. Pour cela, nous avons utilisé la librairie  scikit learn, et plus particulièrement le Voting Regressor.\n",
    "\n",
    "Nous avons choisi de combiner les modèles les plus performants que nous avons testé afin d'assurer plus de stabilité de nos estimations, en réduisant la variance des estimateurs.\n",
    "\n",
    "Cinq modèles ont été implémentés et combinés: \n",
    "- Random Forest\n",
    "- XGBoost\n",
    "- Gradient Boosting\n",
    "- Bagging Regreeor\n",
    "- Extra Tree\n",
    "\n",
    "NB: Nous avons décidé d'étudier la prédiction des latitudes et longitudes séparément , afin d'assurer le meilleur paramétrage pour l'un et pour l'autre. "
   ]
  },
  {
   "cell_type": "markdown",
   "metadata": {
    "id": "x4-1xIIt-I6J"
   },
   "source": [
    "# Set up et import des données "
   ]
  },
  {
   "cell_type": "code",
   "execution_count": 1,
   "metadata": {
    "id": "z_Acz11E9FJR"
   },
   "outputs": [],
   "source": [
    "import pandas as pd\n",
    "import numpy as np\n",
    "import matplotlib.pyplot as plt\n",
    "from IpyTools import *\n",
    "from IotTools import *\n",
    "pd.options.mode.chained_assignment = None  # default='warn'\n",
    "\n",
    "from sklearn.ensemble import RandomForestRegressor\n",
    "import xgboost as xgb\n",
    "from sklearn.ensemble import GradientBoostingRegressor\n",
    "from sklearn.ensemble import BaggingRegressor\n",
    "from sklearn.tree import ExtraTreeRegressor\n",
    "from sklearn.ensemble import VotingRegressor\n",
    "\n",
    "from sklearn.model_selection import cross_val_predict"
   ]
  },
  {
   "cell_type": "code",
   "execution_count": 2,
   "metadata": {
    "id": "xAfAvQS09FJX"
   },
   "outputs": [],
   "source": [
    "df_mess_train = pd.read_csv('mess_train_list.csv')\n",
    "df_mess_test = pd.read_csv('mess_test_list.csv')\n",
    "pos_train = pd.read_csv('pos_train_list.csv')\n",
    "listOfBs = np.union1d(df_mess_train.bsid.unique(),df_mess_test.bsid.unique())"
   ]
  },
  {
   "cell_type": "code",
   "execution_count": 3,
   "metadata": {
    "id": "ESSYM3W_9FJa"
   },
   "outputs": [],
   "source": [
    "X_train = df_mess_train"
   ]
  },
  {
   "cell_type": "markdown",
   "metadata": {
    "id": "BSdLht_c9FJd"
   },
   "source": [
    "# On utilise une fct de protection qui ré-écrit toutes les bases en dehors d'un certain cadre "
   ]
  },
  {
   "cell_type": "code",
   "execution_count": 4,
   "metadata": {
    "id": "1XS7AaFE9FJg",
    "outputId": "c44460cd-2174-4db1-ff26-61af62b8625a"
   },
   "outputs": [
    {
     "name": "stdout",
     "output_type": "stream",
     "text": [
      "Nous avons 27 bases outliers\n",
      "Base 9949 non vu\n",
      "il reste 0 base avec lat >60\n"
     ]
    },
    {
     "data": {
      "text/plain": [
       "0"
      ]
     },
     "execution_count": 4,
     "metadata": {},
     "output_type": "execute_result"
    }
   ],
   "source": [
    "X_train= Correct_Bases (df_mess_train)\n",
    "X_train[X_train.bs_lat>64].shape[0]"
   ]
  },
  {
   "cell_type": "markdown",
   "metadata": {
    "id": "srqNzEdU9FJm"
   },
   "source": [
    "# On retire des devices trop 'complexes' à prédire"
   ]
  },
  {
   "cell_type": "code",
   "execution_count": 5,
   "metadata": {
    "id": "YAWWUFFV9FJp",
    "outputId": "0330249c-165e-4517-cfd0-0970a75a25ee"
   },
   "outputs": [
    {
     "data": {
      "text/plain": [
       "(39250, 8)"
      ]
     },
     "execution_count": 5,
     "metadata": {},
     "output_type": "execute_result"
    }
   ],
   "source": [
    "a=[476598,476896,476256,476513,476889,476248,473288,476327,476836]\n",
    "X_train.shape\n",
    "#2.828589"
   ]
  },
  {
   "cell_type": "code",
   "execution_count": 6,
   "metadata": {
    "id": "Vsh_JagI9FJs"
   },
   "outputs": [],
   "source": [
    "a=[476212., 476830., 476861., 476256,477201, 476829.,476609.,476327,476315,476835,476598,476889,474192,473288]\n",
    "#40 > 2.4819194000000007"
   ]
  },
  {
   "cell_type": "code",
   "execution_count": 7,
   "metadata": {
    "id": "Pcz1Ybjg9FJu"
   },
   "outputs": [],
   "source": [
    "a=[]"
   ]
  },
  {
   "cell_type": "code",
   "execution_count": 8,
   "metadata": {
    "id": "cgUyvGkA9FJw",
    "outputId": "1874ce57-919d-47a4-dcd6-a1cdf30ce765"
   },
   "outputs": [
    {
     "data": {
      "text/html": [
       "<div>\n",
       "<style scoped>\n",
       "    .dataframe tbody tr th:only-of-type {\n",
       "        vertical-align: middle;\n",
       "    }\n",
       "\n",
       "    .dataframe tbody tr th {\n",
       "        vertical-align: top;\n",
       "    }\n",
       "\n",
       "    .dataframe thead th {\n",
       "        text-align: right;\n",
       "    }\n",
       "</style>\n",
       "<table border=\"1\" class=\"dataframe\">\n",
       "  <thead>\n",
       "    <tr style=\"text-align: right;\">\n",
       "      <th></th>\n",
       "      <th>Model</th>\n",
       "      <th>lng</th>\n",
       "      <th>lat</th>\n",
       "    </tr>\n",
       "  </thead>\n",
       "  <tbody>\n",
       "    <tr>\n",
       "      <th>0</th>\n",
       "      <td>XGBRegressor</td>\n",
       "      <td>{'booster': 'gbtree', 'gamma': 0.001, 'learnin...</td>\n",
       "      <td>{'booster': 'gbtree', 'gamma': 0, 'learning_ra...</td>\n",
       "    </tr>\n",
       "    <tr>\n",
       "      <th>1</th>\n",
       "      <td>ExtraTreeRegressor</td>\n",
       "      <td>{'criterion': 'friedman_mse', 'max_depth': 8, ...</td>\n",
       "      <td>{'criterion': 'friedman_mse', 'max_depth': 8,'...</td>\n",
       "    </tr>\n",
       "    <tr>\n",
       "      <th>2</th>\n",
       "      <td>GradientBoostingRegressor</td>\n",
       "      <td>{'learning_rate': 0.2, 'max_depth': 4, 'n_esti...</td>\n",
       "      <td>{'learning_rate': 0.1, 'max_depth': 4, 'n_esti...</td>\n",
       "    </tr>\n",
       "    <tr>\n",
       "      <th>3</th>\n",
       "      <td>RandomForestRegressor</td>\n",
       "      <td>{'criterion': 'mae', 'max_depth': 10, 'max_fea...</td>\n",
       "      <td>{'criterion': 'mae', 'max_depth': 10,'max_feat...</td>\n",
       "    </tr>\n",
       "    <tr>\n",
       "      <th>4</th>\n",
       "      <td>BaggingRegressor</td>\n",
       "      <td>{'n_estimators': 100}</td>\n",
       "      <td>{'n_estimators': 100}</td>\n",
       "    </tr>\n",
       "  </tbody>\n",
       "</table>\n",
       "</div>"
      ],
      "text/plain": [
       "                       Model  \\\n",
       "0               XGBRegressor   \n",
       "1         ExtraTreeRegressor   \n",
       "2  GradientBoostingRegressor   \n",
       "3      RandomForestRegressor   \n",
       "4           BaggingRegressor   \n",
       "\n",
       "                                                 lng  \\\n",
       "0  {'booster': 'gbtree', 'gamma': 0.001, 'learnin...   \n",
       "1  {'criterion': 'friedman_mse', 'max_depth': 8, ...   \n",
       "2  {'learning_rate': 0.2, 'max_depth': 4, 'n_esti...   \n",
       "3  {'criterion': 'mae', 'max_depth': 10, 'max_fea...   \n",
       "4                              {'n_estimators': 100}   \n",
       "\n",
       "                                                 lat  \n",
       "0  {'booster': 'gbtree', 'gamma': 0, 'learning_ra...  \n",
       "1  {'criterion': 'friedman_mse', 'max_depth': 8,'...  \n",
       "2  {'learning_rate': 0.1, 'max_depth': 4, 'n_esti...  \n",
       "3  {'criterion': 'mae', 'max_depth': 10,'max_feat...  \n",
       "4                              {'n_estimators': 100}  "
      ]
     },
     "execution_count": 8,
     "metadata": {},
     "output_type": "execute_result"
    }
   ],
   "source": [
    "# Récupération des meilleurs paramètres\n",
    "df = pd.read_csv(\"best_params.csv\")\n",
    "df.head()"
   ]
  },
  {
   "cell_type": "markdown",
   "metadata": {
    "id": "wFRNeNv-9FJy"
   },
   "source": [
    "# Création de matrices "
   ]
  },
  {
   "cell_type": "code",
   "execution_count": 9,
   "metadata": {
    "id": "68S13cY89FJ0",
    "outputId": "16844c51-df79-4f56-d783-28a21cce508f"
   },
   "outputs": [
    {
     "data": {
      "text/plain": [
       "((6068, 3), (6068, 273))"
      ]
     },
     "execution_count": 9,
     "metadata": {},
     "output_type": "execute_result"
    }
   ],
   "source": [
    "X_mod = X_train[~X_train.did.isin(a)]\n",
    "df_feat, id_list=feat_mat_const(X_mod, listOfBs)\n",
    "\n",
    "y_full = ground_truth_const(X_mod, pos_train, id_list)\n",
    "y_full.shape,df_feat.shape\n"
   ]
  },
  {
   "cell_type": "markdown",
   "metadata": {
    "id": "UOjzgpAe-ila"
   },
   "source": [
    "# Application des algorithmes d'apprentissage et estimation du temps d'entrainement"
   ]
  },
  {
   "cell_type": "markdown",
   "metadata": {
    "id": "adqTnECs_TyW"
   },
   "source": [
    "### XGBoost"
   ]
  },
  {
   "cell_type": "code",
   "execution_count": 16,
   "metadata": {
    "id": "3xaJWr9D9FJ3",
    "outputId": "ed6cd19e-3dc6-4ade-a9bb-bb285a639538"
   },
   "outputs": [
    {
     "name": "stdout",
     "output_type": "stream",
     "text": [
      "Wall time: 7.67 s\n"
     ]
    },
    {
     "data": {
      "text/plain": [
       "3.2479798000000004"
      ]
     },
     "execution_count": 16,
     "metadata": {},
     "output_type": "execute_result"
    }
   ],
   "source": [
    "%%time\n",
    "\n",
    "model_lng = xgb.XGBRegressor(**get_hyperparameter('XGBRegressor', 'lng'))\n",
    "model_lat = xgb.XGBRegressor(**get_hyperparameter('XGBRegressor', 'lat'))\n",
    "\n",
    "\n",
    "y_pred_lng_Xb = cross_val_predict(model_lng, df_feat, y_full.lng, cv=3)\n",
    "y_pred_lat_Xb = cross_val_predict(model_lat, df_feat, y_full.lat, cv=3)\n",
    "err_vec = Eval_geoloc(y_full.lat , y_full.lng, y_pred_lat_Xb, y_pred_lng_Xb)\n",
    "np.percentile(err_vec, 80)\n",
    "#sans param : 3.4274806\n",
    "#avec param : 3.2619"
   ]
  },
  {
   "cell_type": "markdown",
   "metadata": {
    "id": "ceT33b6k_V_k"
   },
   "source": [
    "### Extra Tree"
   ]
  },
  {
   "cell_type": "code",
   "execution_count": 11,
   "metadata": {
    "id": "fKnLVTp99FJ6",
    "outputId": "e436621f-ff4f-423a-e6af-87bec6a8dc9c"
   },
   "outputs": [
    {
     "name": "stdout",
     "output_type": "stream",
     "text": [
      "Wall time: 524 ms\n"
     ]
    },
    {
     "data": {
      "text/plain": [
       "3.530254600000001"
      ]
     },
     "execution_count": 11,
     "metadata": {},
     "output_type": "execute_result"
    }
   ],
   "source": [
    "%%time\n",
    "\n",
    "clf_lng=ExtraTreeRegressor(**get_hyperparameter('ExtraTreeRegressor', 'lng'))\n",
    "clf_lat=ExtraTreeRegressor(**get_hyperparameter('ExtraTreeRegressor', 'lat'))\n",
    "\n",
    "y_pred_lng_Etr = cross_val_predict(clf_lng, df_feat, y_full.lng, cv=3)\n",
    "y_pred_lat_Etr = cross_val_predict(clf_lat, df_feat, y_full.lat, cv=3)\n",
    "err_vec = Eval_geoloc(y_full.lat , y_full.lng, y_pred_lat_Etr, y_pred_lng_Etr)\n",
    "np.percentile(err_vec, 80)\n",
    "#sans param:3.25750\n",
    "#avec param :3.110561"
   ]
  },
  {
   "cell_type": "markdown",
   "metadata": {
    "id": "R5ZxGMN1_X8h"
   },
   "source": [
    "### Random Forest"
   ]
  },
  {
   "cell_type": "code",
   "execution_count": 12,
   "metadata": {
    "id": "6vpmxHt-9FJ9",
    "outputId": "2102762c-9037-4397-bf7e-5f5fdd4aeea5"
   },
   "outputs": [
    {
     "name": "stdout",
     "output_type": "stream",
     "text": [
      "Wall time: 4min 31s\n"
     ]
    },
    {
     "data": {
      "text/plain": [
       "3.3418512000000007"
      ]
     },
     "execution_count": 12,
     "metadata": {},
     "output_type": "execute_result"
    }
   ],
   "source": [
    "%%time\n",
    "clf_lng=RandomForestRegressor(**get_hyperparameter('RandomForestRegressor', 'lng'))\n",
    "clf_lat=RandomForestRegressor(**get_hyperparameter('RandomForestRegressor', 'lat'))\n",
    "\n",
    "y_pred_lng_Rfr = cross_val_predict(clf_lng, df_feat, y_full.lng, cv=3)\n",
    "y_pred_lat_Rfr = cross_val_predict(clf_lat, df_feat, y_full.lat, cv=3)\n",
    "err_vec = Eval_geoloc(y_full.lat , y_full.lng, y_pred_lat_Rfr, y_pred_lng_Rfr)\n",
    "np.percentile(err_vec, 80)\n",
    "#sans param :3.273\n",
    "#avec param :3.21965"
   ]
  },
  {
   "cell_type": "markdown",
   "metadata": {
    "id": "VW6Ioj4z_cYc"
   },
   "source": [
    "### Gradient Boosting"
   ]
  },
  {
   "cell_type": "code",
   "execution_count": 13,
   "metadata": {
    "id": "fJRLcxMs9FJ-",
    "outputId": "e274b2e0-37c5-4c59-e716-f93436475f6a"
   },
   "outputs": [
    {
     "name": "stdout",
     "output_type": "stream",
     "text": [
      "Wall time: 11.4 s\n"
     ]
    },
    {
     "data": {
      "text/plain": [
       "3.355931400000002"
      ]
     },
     "execution_count": 13,
     "metadata": {},
     "output_type": "execute_result"
    }
   ],
   "source": [
    "%%time\n",
    "clf_lng=GradientBoostingRegressor(**get_hyperparameter('GradientBoostingRegressor', 'lng'))\n",
    "clf_lat=GradientBoostingRegressor(**get_hyperparameter('GradientBoostingRegressor', 'lat'))\n",
    "\n",
    "y_pred_lng_Gbr = cross_val_predict(clf_lng, df_feat, y_full.lng, cv=3)\n",
    "y_pred_lat_Gbr = cross_val_predict(clf_lat, df_feat, y_full.lat, cv=3)\n",
    "err_vec = Eval_geoloc(y_full.lat , y_full.lng, y_pred_lat_Gbr, y_pred_lng_Gbr)\n",
    "np.percentile(err_vec, 80)\n",
    "#sans param :3.3046138\n",
    "#avec param :3.305409"
   ]
  },
  {
   "cell_type": "markdown",
   "metadata": {
    "id": "0BL71Mls_ezU"
   },
   "source": [
    "### Bagging Regressor"
   ]
  },
  {
   "cell_type": "code",
   "execution_count": 14,
   "metadata": {
    "id": "A7n24Kng9FKA",
    "outputId": "f40a2f68-a05b-4ffd-90c6-97ed36f466ce"
   },
   "outputs": [
    {
     "name": "stdout",
     "output_type": "stream",
     "text": [
      "Wall time: 40.9 s\n"
     ]
    },
    {
     "data": {
      "text/plain": [
       "3.2663767999999997"
      ]
     },
     "execution_count": 14,
     "metadata": {},
     "output_type": "execute_result"
    }
   ],
   "source": [
    "%%time\n",
    "\n",
    "clf_lng=BaggingRegressor(**get_hyperparameter('BaggingRegressor', 'lng'))\n",
    "clf_lat=BaggingRegressor(**get_hyperparameter('BaggingRegressor', 'lat'))\n",
    "\n",
    "y_pred_lng_Br = cross_val_predict(clf_lng, df_feat, y_full.lng, cv=3)\n",
    "y_pred_lat_Br = cross_val_predict(clf_lat, df_feat, y_full.lat, cv=3)\n",
    "err_vec = Eval_geoloc(y_full.lat , y_full.lng, y_pred_lat_Br, y_pred_lng_Br)\n",
    "np.percentile(err_vec, 80)"
   ]
  },
  {
   "cell_type": "code",
   "execution_count": 17,
   "metadata": {
    "id": "EUCElDrx9FKC"
   },
   "outputs": [],
   "source": [
    "y_pred_lng = (y_pred_lng_Xb+y_pred_lng_Etr+y_pred_lng_Rfr+y_pred_lng_Gbr+y_pred_lng_Br)/5\n",
    "y_pred_lat = (y_pred_lat_Xb+y_pred_lat_Etr+y_pred_lat_Rfr+y_pred_lat_Gbr+y_pred_lat_Br)/5\n",
    "err_vec = Eval_geoloc(y_full.lat , y_full.lng, y_pred_lat, y_pred_lng)"
   ]
  },
  {
   "cell_type": "code",
   "execution_count": 20,
   "metadata": {
    "id": "A5lsDxFT9FKD",
    "outputId": "b0ffe543-7870-48a0-f1d7-d3c1b0b9a82e"
   },
   "outputs": [
    {
     "data": {
      "text/plain": [
       "(3.1581918000000004, (6068,))"
      ]
     },
     "execution_count": 20,
     "metadata": {},
     "output_type": "execute_result"
    }
   ],
   "source": [
    "np.percentile(err_vec, 80),y_pred_lat.shape\n",
    "#Ref : 3.1226744\n",
    "#1er sous ensemble device : 3.2070142\n",
    "#2e sous ensemble device : 3.1333602000000007"
   ]
  },
  {
   "cell_type": "code",
   "execution_count": 21,
   "metadata": {
    "id": "N8GHbFqg9FKE",
    "outputId": "a84c0114-d6d0-4bc8-eed8-ca655f83429f"
   },
   "outputs": [
    {
     "data": {
      "text/plain": [
       "3.2016486"
      ]
     },
     "execution_count": 21,
     "metadata": {},
     "output_type": "execute_result"
    }
   ],
   "source": [
    "r1 = RandomForestRegressor(**get_hyperparameter('RandomForestRegressor', 'lng'))\n",
    "r3 = ExtraTreeRegressor(**get_hyperparameter('ExtraTreeRegressor', 'lng'))\n",
    "Vr = VotingRegressor(estimators=[('Et',r3),('Gb', r1)])\n",
    "y_pred_lng = cross_val_predict(Vr, df_feat, y_full.lng, cv=3)\n",
    "\n",
    "r1 = RandomForestRegressor(**get_hyperparameter('RandomForestRegressor', 'lat'))\n",
    "r3 = ExtraTreeRegressor(**get_hyperparameter('ExtraTreeRegressor', 'lat'))\n",
    "Vr = VotingRegressor(estimators=[('Et',r3),('Gb', r1)])\n",
    "y_pred_lat = cross_val_predict(Vr, df_feat, y_full.lat, cv=3)\n",
    "\n",
    "err_vec = Eval_geoloc(y_full.lat , y_full.lng, y_pred_lat, y_pred_lng)\n",
    "np.percentile(err_vec, 80)"
   ]
  },
  {
   "cell_type": "markdown",
   "metadata": {
    "id": "oGyt3cQC-oPP"
   },
   "source": [
    "# Combinaison des meilleurs algorithmes avec le Voting Regressor en moyennant"
   ]
  },
  {
   "cell_type": "code",
   "execution_count": 23,
   "metadata": {
    "id": "8l3zJaLR9FKF"
   },
   "outputs": [],
   "source": [
    "r1 = RandomForestRegressor(**get_hyperparameter('RandomForestRegressor', 'lng'))\n",
    "r2 = GradientBoostingRegressor(**get_hyperparameter('GradientBoostingRegressor', 'lng'))\n",
    "r3 = ExtraTreeRegressor(**get_hyperparameter('ExtraTreeRegressor', 'lng'))\n",
    "r4 = xgb.XGBRegressor(**get_hyperparameter('XGBRegressor', 'lng'))\n",
    "r5 = BaggingRegressor(**get_hyperparameter('BaggingRegressor', 'lng'))\n",
    "Vr_lng = VotingRegressor(estimators=[('Et',r1),('Rf',r2),('Gb',r3),('Xg',r4),('Xdg',r5)])\n",
    "y_pred_lng = cross_val_predict(Vr_lng, df_feat, y_full.lng, cv=3)"
   ]
  },
  {
   "cell_type": "code",
   "execution_count": 24,
   "metadata": {
    "id": "sm4HvDgg9FKH"
   },
   "outputs": [],
   "source": [
    "r1 = RandomForestRegressor(**get_hyperparameter('RandomForestRegressor', 'lat'))\n",
    "r2 = GradientBoostingRegressor(**get_hyperparameter('GradientBoostingRegressor', 'lat'))\n",
    "r3 = ExtraTreeRegressor(**get_hyperparameter('ExtraTreeRegressor', 'lat'))\n",
    "r4 = xgb.XGBRegressor(**get_hyperparameter('XGBRegressor', 'lat'))\n",
    "r5 = BaggingRegressor(**get_hyperparameter('BaggingRegressor', 'lat'))\n",
    "Vr_lat = VotingRegressor(estimators=[('Et',r1),('Rf',r2),('Gb',r3),('Xg',r4),('Xdg',r5)])\n",
    "y_pred_lat = cross_val_predict(Vr_lat, df_feat, y_full.lat, cv=3)"
   ]
  },
  {
   "cell_type": "markdown",
   "metadata": {
    "id": "7wnb5K0B-ykE"
   },
   "source": [
    "# Estimation de l'erreur"
   ]
  },
  {
   "cell_type": "code",
   "execution_count": 25,
   "metadata": {
    "id": "AJ-5blrE9FKI",
    "outputId": "2f17c5e5-963a-4086-f688-5b1d627f213c"
   },
   "outputs": [
    {
     "data": {
      "text/plain": [
       "3.127853000000001"
      ]
     },
     "execution_count": 25,
     "metadata": {},
     "output_type": "execute_result"
    }
   ],
   "source": [
    "err_vec = Eval_geoloc(y_full.lat , y_full.lng, y_pred_lat, y_pred_lng)\n",
    "np.percentile(err_vec, 80)"
   ]
  },
  {
   "cell_type": "markdown",
   "metadata": {
    "id": "VxKfpuX0tMoR"
   },
   "source": [
    "# Conclusion\n",
    "Dans la suite du TP, nous utiliserons la méthode de voting regressor avec nos 5 modèles. Nous rajouterons également les hyper paramètres.\n"
   ]
  }
 ],
 "metadata": {
  "colab": {
   "collapsed_sections": [],
   "name": "2_Qualification Validé Nico.ipynb",
   "provenance": []
  },
  "kernelspec": {
   "display_name": "Python 3",
   "language": "python",
   "name": "python3"
  },
  "language_info": {
   "codemirror_mode": {
    "name": "ipython",
    "version": 3
   },
   "file_extension": ".py",
   "mimetype": "text/x-python",
   "name": "python",
   "nbconvert_exporter": "python",
   "pygments_lexer": "ipython3",
   "version": "3.8.3"
  }
 },
 "nbformat": 4,
 "nbformat_minor": 1
}
