{
 "cells": [
  {
   "cell_type": "markdown",
   "metadata": {
    "id": "pogPGvyyzkJO"
   },
   "source": [
    "Projet réalisé par :\\\n",
    "Mahmoud Benboubker\\\n",
    "Nicolas Calligaro\\\n",
    "Aïcha Lalhou"
   ]
  },
  {
   "cell_type": "markdown",
   "metadata": {
    "id": "6MY_JiMc_1T2"
   },
   "source": [
    "# Etude Approfondie des bases \n",
    "Dans ce notebook, nous nous sommes intéressé à l'étude des bases, et donc plus particulièrement de la variable 'bsid'.\n",
    "\n",
    "Nous avons mis en exerguue des potentielles erreurs dans la saisie de certaines données relatives à certaines bases. \n",
    "\n",
    "Nous avons également proposé des solutions pour pallier à ces problèmes qui sont énoncées  à la fin de ce notebook. Nous avons également intégré un description de l'algorithme qui permet de corriger le problème que nous avons identifié, qui est utilisable pour le X_train et X_test. \n",
    "\n",
    "NB: L'algorithme décrit est implémenté dans la fonction Correct_Bases dans le fichier IotTools.\n",
    "\n",
    "NB2 : Dans le test on a identifié une base impossible a déplacer automatiquement. ainsi un traitement manuel sera mis en oeuvre\n",
    "\n"
   ]
  },
  {
   "cell_type": "markdown",
   "metadata": {
    "id": "P5w_2wb4_1UR"
   },
   "source": [
    "# Affichons toutes les bases en utilisant la bibliohtèque ipyleefleat et leur coordonnée GPS."
   ]
  },
  {
   "cell_type": "code",
   "execution_count": 1,
   "metadata": {
    "id": "M3bS1epe_1UT"
   },
   "outputs": [],
   "source": [
    "import pandas as pd\n",
    "import numpy as np\n",
    "from IotTools import *\n",
    "from IpyTools import *\n",
    "from ipyleaflet import Map, basemaps"
   ]
  },
  {
   "cell_type": "code",
   "execution_count": 2,
   "metadata": {
    "id": "9oT_ohDT_1UV"
   },
   "outputs": [],
   "source": [
    "df_mess_train = pd.read_csv('mess_train_list.csv')\n",
    "df_mess_test = pd.read_csv('mess_test_list.csv')\n",
    "pos_train = pd.read_csv('pos_train_list.csv')"
   ]
  },
  {
   "cell_type": "code",
   "execution_count": 3,
   "metadata": {
    "id": "jyg79JTQ_1UW",
    "outputId": "82f8e59f-3fe5-40c7-8856-9aaa99325a8f"
   },
   "outputs": [
    {
     "data": {
      "image/png": "[encoded data removed]",
      "text/plain": [
       "<Figure size 432x288 with 1 Axes>"
      ]
     },
     "metadata": {
      "needs_background": "light"
     },
     "output_type": "display_data"
    }
   ],
   "source": [
    "df_Coord_Base = df_mess_train[['bsid','bs_lat','bs_lng']].drop_duplicates(subset ='bsid', keep = 'first').set_index('bsid')\n",
    "df_Coord_Base.head(1)\n",
    "df_Coord_Base.plot(kind='hist',bins=20);"
   ]
  },
  {
   "cell_type": "markdown",
   "metadata": {
    "id": "Uf0YcVIe_1UZ"
   },
   "source": [
    "Conclusion : on voit qu'il y a deux groupes de bases à différentes location.\n",
    "La distance entre ces deux groupes parait conséquente au vu de la zone réelle des messages considérés. "
   ]
  },
  {
   "cell_type": "markdown",
   "metadata": {
    "id": "drKjvSuR_1UZ"
   },
   "source": [
    "# Affichons les deux clusters"
   ]
  },
  {
   "cell_type": "code",
   "execution_count": 4,
   "metadata": {
    "id": "jrZym-7u_1Ua",
    "outputId": "2836968e-d510-42a4-e0d6-9a7d03d21fce"
   },
   "outputs": [
    {
     "data": {
      "text/plain": [
       "((27, 2), (224, 2), (251, 2))"
      ]
     },
     "execution_count": 4,
     "metadata": {},
     "output_type": "execute_result"
    }
   ],
   "source": [
    "df_out = df_Coord_Base[df_Coord_Base.bs_lat>64]\n",
    "df_in = df_Coord_Base.drop(df_out.index)\n",
    "df_out.shape,df_in.shape,df_Coord_Base.shape"
   ]
  },
  {
   "cell_type": "code",
   "execution_count": 5,
   "metadata": {
    "id": "-fcam0ta_1Ub",
    "outputId": "b4dce0b9-6d61-466a-92f6-249bb62c51ef"
   },
   "outputs": [
    {
     "data": {
      "text/plain": [
       "(50.176696843049996, -87.98157291199999)"
      ]
     },
     "execution_count": 5,
     "metadata": {},
     "output_type": "execute_result"
    }
   ],
   "source": [
    "barycentre = ((df_Coord_Base.bs_lat.max()+df_Coord_Base.bs_lat.min())/2,(df_Coord_Base.bs_lng.min()+df_Coord_Base.bs_lng.max())/2)\n",
    "barycentre"
   ]
  },
  {
   "cell_type": "code",
   "execution_count": 6,
   "metadata": {
    "colab": {
     "referenced_widgets": [
      "4e80b430b4ca4eea838171841fffd70a"
     ]
    },
    "id": "DsUMzPrb_1Uc",
    "outputId": "edae6030-b25c-4283-dca2-2a4f269e3d88"
   },
   "outputs": [
    {
     "data": {
      "application/vnd.jupyter.widget-view+json": {
       "model_id": "a5debb0ad4fc41878706236ac5f864dc",
       "version_major": 2,
       "version_minor": 0
      },
      "text/plain": [
       "Map(center=[50.176696843049996, -87.98157291199999], controls=(ZoomControl(options=['position', 'zoom_in_text'…"
      ]
     },
     "metadata": {},
     "output_type": "display_data"
    }
   ],
   "source": [
    "m = Map(center=barycentre, zoom=3, basemap = basemaps.OpenStreetMap.Mapnik)\n",
    "\n",
    "dot_in = Give_Marker_Cluster(df_Coord_Base)\n",
    "dot_out = Give_Marker_Cluster(df_out)\n",
    "\n",
    "m.add_layer(dot_in)\n",
    "m.add_layer(dot_out)\n",
    "m\n",
    "#L'affichage en 'marker clustered' met en évidence que les bases sont toutes l'une sur l'autre"
   ]
  },
  {
   "cell_type": "markdown",
   "metadata": {
    "id": "jesDzRF6_1Ud"
   },
   "source": [
    "Conclusion : \n",
    "- Le cluster des bases au canada contient des bases à exactement la même localisation, contrairement au cluster se situant à Denver"
   ]
  },
  {
   "cell_type": "markdown",
   "metadata": {
    "id": "HYdaOW61_1Ue"
   },
   "source": [
    "# Question : \n",
    "Ces bases sont elles des outliers ? et donc à supprimer \n",
    "Ou des erreurs de saisie sur leurs coordonées? et donc à traiter"
   ]
  },
  {
   "cell_type": "code",
   "execution_count": 7,
   "metadata": {
    "id": "I21gBGxo_1Ue",
    "outputId": "b9872229-32fb-4618-e3d8-ef73bbb1aff5"
   },
   "outputs": [
    {
     "data": {
      "text/html": [
       "<div>\n",
       "<style scoped>\n",
       "    .dataframe tbody tr th:only-of-type {\n",
       "        vertical-align: middle;\n",
       "    }\n",
       "\n",
       "    .dataframe tbody tr th {\n",
       "        vertical-align: top;\n",
       "    }\n",
       "\n",
       "    .dataframe thead th {\n",
       "        text-align: right;\n",
       "    }\n",
       "</style>\n",
       "<table border=\"1\" class=\"dataframe\">\n",
       "  <thead>\n",
       "    <tr style=\"text-align: right;\">\n",
       "      <th></th>\n",
       "      <th>bsid</th>\n",
       "      <th>size</th>\n",
       "    </tr>\n",
       "    <tr>\n",
       "      <th>messid</th>\n",
       "      <th></th>\n",
       "      <th></th>\n",
       "    </tr>\n",
       "  </thead>\n",
       "  <tbody>\n",
       "    <tr>\n",
       "      <th>573bf1d9864fce1a9af8c5c9</th>\n",
       "      <td>[2841, 3526]</td>\n",
       "      <td>2</td>\n",
       "    </tr>\n",
       "  </tbody>\n",
       "</table>\n",
       "</div>"
      ],
      "text/plain": [
       "                                  bsid  size\n",
       "messid                                      \n",
       "573bf1d9864fce1a9af8c5c9  [2841, 3526]     2"
      ]
     },
     "execution_count": 7,
     "metadata": {},
     "output_type": "execute_result"
    }
   ],
   "source": [
    "#Liste des bases reçu par un message \n",
    "a=[];b=[];c=[]\n",
    "for key, elmt in df_mess_train.groupby(\"messid\"):\n",
    "    a.append(key);b.append(elmt.bsid.values);c.append(len(elmt.bsid.values))\n",
    "msg_base = pd.DataFrame({'messid':a,'bsid':b,'size':c})\n",
    "msg_base.set_index('messid',inplace=True)\n",
    "msg_base.head(1)"
   ]
  },
  {
   "cell_type": "code",
   "execution_count": 8,
   "metadata": {
    "id": "mpknG1yG_1Ug",
    "outputId": "544d67f5-b93e-44da-de9a-f11d92813c12"
   },
   "outputs": [
    {
     "data": {
      "text/html": [
       "<div>\n",
       "<style scoped>\n",
       "    .dataframe tbody tr th:only-of-type {\n",
       "        vertical-align: middle;\n",
       "    }\n",
       "\n",
       "    .dataframe tbody tr th {\n",
       "        vertical-align: top;\n",
       "    }\n",
       "\n",
       "    .dataframe thead th {\n",
       "        text-align: right;\n",
       "    }\n",
       "</style>\n",
       "<table border=\"1\" class=\"dataframe\">\n",
       "  <thead>\n",
       "    <tr style=\"text-align: right;\">\n",
       "      <th></th>\n",
       "      <th>lat</th>\n",
       "      <th>lng</th>\n",
       "    </tr>\n",
       "    <tr>\n",
       "      <th>messid</th>\n",
       "      <th></th>\n",
       "      <th></th>\n",
       "    </tr>\n",
       "  </thead>\n",
       "  <tbody>\n",
       "    <tr>\n",
       "      <th>573bf1d9864fce1a9af8c5c9</th>\n",
       "      <td>39.60669</td>\n",
       "      <td>-104.95849</td>\n",
       "    </tr>\n",
       "  </tbody>\n",
       "</table>\n",
       "</div>"
      ],
      "text/plain": [
       "                               lat        lng\n",
       "messid                                       \n",
       "573bf1d9864fce1a9af8c5c9  39.60669 -104.95849"
      ]
     },
     "execution_count": 8,
     "metadata": {},
     "output_type": "execute_result"
    }
   ],
   "source": [
    "#Liste de tous les messages avec leur coordonées\n",
    "pos_train['messid'] = df_mess_train.messid\n",
    "msg_coord = pos_train.groupby('messid').mean()\n",
    "msg_coord.head(1)"
   ]
  },
  {
   "cell_type": "markdown",
   "metadata": {
    "id": "HcUhNuTI_1Uh"
   },
   "source": [
    "# Voyons sur quels messages elles apparraissent et où sont ces messages"
   ]
  },
  {
   "cell_type": "code",
   "execution_count": 9,
   "metadata": {
    "id": "MQjwa3im_1Ui",
    "outputId": "b4ded547-b26e-4fc8-d1b3-f13b0b6e1578"
   },
   "outputs": [
    {
     "data": {
      "text/plain": [
       "array([ 8355, 11007,  1594, 10151, 10162,  8451,  4993,  8560,  2293,\n",
       "        4959, 10999,  1661,  8449,  4156,  4129,  1743,  4987,  1772,\n",
       "        1796,  2707,  2943,  4123, 11951,  9784,  1092,  1854,  7248],\n",
       "      dtype=int64)"
      ]
     },
     "execution_count": 9,
     "metadata": {},
     "output_type": "execute_result"
    }
   ],
   "source": [
    "#Listes des bases outliers\n",
    "base_out = df_out.index.values\n",
    "base_out"
   ]
  },
  {
   "cell_type": "code",
   "execution_count": 10,
   "metadata": {
    "id": "Hrp2aFNh_1Uj",
    "outputId": "307a9bd2-7bc2-4351-ebcc-5f0cb3ced87a"
   },
   "outputs": [
    {
     "name": "stdout",
     "output_type": "stream",
     "text": [
      "NB messages captés par l'une des bases outliers: 1849\n"
     ]
    }
   ],
   "source": [
    "#1849 Messages captés par les bases outliers.\n",
    "msg_out = df_mess_train[df_mess_train.bsid.isin(base_out)].messid.unique()\n",
    "print(f\"NB messages captés par l'une des bases outliers: {len(msg_out)}\")"
   ]
  },
  {
   "cell_type": "markdown",
   "metadata": {
    "id": "TyRl6-ZL_1Ul"
   },
   "source": [
    "# Localisation des messages"
   ]
  },
  {
   "cell_type": "code",
   "execution_count": 11,
   "metadata": {
    "colab": {
     "referenced_widgets": [
      "739eb7735fb442aea1adff9082f9adbf"
     ]
    },
    "id": "FCFsQCA2_1Ul",
    "outputId": "bac1e17f-e4a4-44e9-a2b4-43557ae714ad"
   },
   "outputs": [
    {
     "data": {
      "application/vnd.jupyter.widget-view+json": {
       "model_id": "530c4f01e16b443cae0cb44b97203558",
       "version_major": 2,
       "version_minor": 0
      },
      "text/plain": [
       "Map(center=[50.176696843049996, -87.98157291199999], controls=(ZoomControl(options=['position', 'zoom_in_text'…"
      ]
     },
     "metadata": {},
     "output_type": "display_data"
    }
   ],
   "source": [
    "m = Map(center=barycentre, zoom=3, basemap = basemaps.OpenStreetMap.Mapnik)\n",
    "\n",
    "msg_coord_out = msg_coord[msg_coord.index.isin(msg_out)]\n",
    "message = Draw_Dot(msg_coord_out,'green')\n",
    "\n",
    "for i in message :\n",
    "    m.add_layer(i)\n",
    "m\n",
    "#msg_coord[msg_coord.index.isin(msg_out)]"
   ]
  },
  {
   "cell_type": "markdown",
   "metadata": {
    "id": "uVclEoLA_1Un"
   },
   "source": [
    "Conclusion : \n",
    "- Tous les messages reçus par les bases outliers sont au même endroit."
   ]
  },
  {
   "cell_type": "markdown",
   "metadata": {
    "id": "1gCz8F5g_1Uo"
   },
   "source": [
    "# Ces bases ne sont pas des outliers, mais bien des erreurs de saisie nous devons donc les traiter.\n",
    "> Solution 1 : Retirer les bases des données\n",
    "> Solution 2 : Corriger les coordonnées par une extrapolation"
   ]
  },
  {
   "cell_type": "markdown",
   "metadata": {
    "id": "Tid_t1aj_1Uo"
   },
   "source": [
    "# Affichons les messages et toutes les bases liées a ces bases outliers"
   ]
  },
  {
   "cell_type": "code",
   "execution_count": 12,
   "metadata": {
    "id": "xoZqgZtR_1Up",
    "outputId": "d33d3c91-2634-43c8-eb96-409c9fa6fb25"
   },
   "outputs": [
    {
     "name": "stdout",
     "output_type": "stream",
     "text": [
      "le msg le plus capté par l'une des bases outliers à Denver : 57aeb41fe541cd77a044cdb8\n"
     ]
    }
   ],
   "source": [
    "msg_coord_Denvers = msg_coord_out[msg_coord_out.lat<40]\n",
    "a = msg_coord_Denvers.index.values\n",
    "b=msg_base[msg_base.index.isin(a)]['size'].max()\n",
    "denver = msg_base[msg_base['size']==b].index.values[0]\n",
    "print(f\"le msg le plus capté par l'une des bases outliers à Denver : {denver}\")\n",
    "d = msg_base[msg_base.index== denver].bsid.values[0]\n",
    "base_denver = df_Coord_Base[df_Coord_Base.index.isin(d)]\n"
   ]
  },
  {
   "cell_type": "code",
   "execution_count": 13,
   "metadata": {
    "colab": {
     "referenced_widgets": [
      "1d0ee88fcfe54c9da7c34c7c451f899e"
     ]
    },
    "id": "f7Ti0nJO_1Up",
    "outputId": "b1d2cbb2-9e2b-45ec-f69b-2ae87daffcdf"
   },
   "outputs": [
    {
     "data": {
      "application/vnd.jupyter.widget-view+json": {
       "model_id": "71255e4d49674e11a910560b4c865914",
       "version_major": 2,
       "version_minor": 0
      },
      "text/plain": [
       "Map(center=[50.176696843049996, -87.98157291199999], controls=(ZoomControl(options=['position', 'zoom_in_text'…"
      ]
     },
     "metadata": {},
     "output_type": "display_data"
    }
   ],
   "source": [
    "m = Map(center=barycentre, zoom=3, basemap = basemaps.OpenStreetMap.Mapnik)\n",
    "\n",
    "m.add_layer(Give_Colored_Marker(msg_coord[msg_coord.index==denver])[0])\n",
    "\n",
    "out_b = Give_Marker_Cluster(base_denver[base_denver.bs_lat>45])\n",
    "m.add_layer(out_b)\n",
    "\n",
    "denver_b = Draw_Dot(base_denver[base_denver.bs_lat<45],color='green')\n",
    "for i in denver_b :\n",
    "    m.add_layer(i)\n",
    "m"
   ]
  },
  {
   "cell_type": "code",
   "execution_count": 14,
   "metadata": {
    "id": "Gvbahy83_1Uq",
    "outputId": "97cb6269-791f-4fbe-d5cb-ca8d96f7296b"
   },
   "outputs": [
    {
     "name": "stdout",
     "output_type": "stream",
     "text": [
      "le msg le plus capté par l'une des bases outliers au Wyoming : 5822df26cf554f7e3aa2e56e\n"
     ]
    }
   ],
   "source": [
    "msg_coord_out_Denvers = msg_coord_out[msg_coord_out.lat>40]\n",
    "a = msg_coord_out_Denvers.index.values\n",
    "wyoming =msg_base[msg_base.index.isin(a)].iloc[0].name\n",
    "print(f\"le msg le plus capté par l'une des bases outliers au Wyoming : {wyoming}\")"
   ]
  },
  {
   "cell_type": "code",
   "execution_count": 15,
   "metadata": {
    "id": "3BFLq-g8_1Ur"
   },
   "outputs": [],
   "source": [
    "d = msg_base[msg_base.index== wyoming].bsid.values[0]\n",
    "base_wyoming = df_Coord_Base[df_Coord_Base.index.isin(d)]"
   ]
  },
  {
   "cell_type": "code",
   "execution_count": 16,
   "metadata": {
    "colab": {
     "referenced_widgets": [
      "2f40b3447f3542c5aa3a80884fc2ce02"
     ]
    },
    "id": "9w4yZFyh_1Us",
    "outputId": "d7de14ce-b338-40f6-e863-2b4b891f9210"
   },
   "outputs": [
    {
     "data": {
      "application/vnd.jupyter.widget-view+json": {
       "model_id": "efd098f33ce34a69b5a83282e07c497c",
       "version_major": 2,
       "version_minor": 0
      },
      "text/plain": [
       "Map(center=[50.176696843049996, -87.98157291199999], controls=(ZoomControl(options=['position', 'zoom_in_text'…"
      ]
     },
     "metadata": {},
     "output_type": "display_data"
    }
   ],
   "source": [
    "m = Map(center=barycentre, zoom=3, basemap = basemaps.OpenStreetMap.Mapnik)\n",
    "\n",
    "m.add_layer(Give_Colored_Marker(msg_coord[msg_coord.index==wyoming])[0])\n",
    "\n",
    "out_b = Give_Marker_Cluster(base_wyoming[base_wyoming.bs_lat>45])\n",
    "m.add_layer(out_b)\n",
    "\n",
    "denver_b = Draw_Dot(base_wyoming[base_wyoming.bs_lat<45],color='green')\n",
    "for i in denver_b :\n",
    "    m.add_layer(i)\n",
    "m"
   ]
  },
  {
   "cell_type": "markdown",
   "metadata": {
    "id": "8LsKuj2z_1Us"
   },
   "source": [
    "Conclusion :\n",
    "- Les messages sont captés par un ensemble cohérent de base \n",
    "- Les bases au Canada sont bien des erreurs de saisie\n",
    "- Il nous reste à vérifier qu'une meme base au canada n'est pas capté par un msg au wyoming et un autre dans denver"
   ]
  },
  {
   "cell_type": "markdown",
   "metadata": {
    "id": "Nq-FLD8b_1Ut"
   },
   "source": [
    "# Question : Est ce que les bases outliers vu à Denvers sont les mêmes que celle vu au Wyoming ?"
   ]
  },
  {
   "cell_type": "code",
   "execution_count": 17,
   "metadata": {
    "id": "bnlEFcHU_1Ut",
    "outputId": "17fc7a39-b40c-4389-c8bc-d8bf74c78041"
   },
   "outputs": [
    {
     "data": {
      "text/plain": [
       "array([ 8355, 11007,  1594, 10151, 10162,  8451,  4993,  8560,  2293,\n",
       "        4959, 10999,  1661,  8449,  4156,  4129,  1743,  4987,  1772,\n",
       "        1796,  2707,  2943,  4123,  1092,  1854,  7248], dtype=int64)"
      ]
     },
     "execution_count": 17,
     "metadata": {},
     "output_type": "execute_result"
    }
   ],
   "source": [
    "a = msg_coord_out[msg_coord_out.lat<40].index.values;a\n",
    "tmp=[]\n",
    "for _,row in msg_base[msg_base.index.isin(a)].iterrows():\n",
    "    tmp.extend(row.bsid)\n",
    "e = set(df_out[df_out.index.isin(tmp)].index.values);len(e)\n",
    "df_out[df_out.index.isin(tmp)].index.values"
   ]
  },
  {
   "cell_type": "code",
   "execution_count": 18,
   "metadata": {
    "id": "NP6iemoP_1Uu",
    "outputId": "09a72a93-2aa8-47d7-c2f5-8fb5f2e79b32"
   },
   "outputs": [
    {
     "data": {
      "text/plain": [
       "array([11951,  9784], dtype=int64)"
      ]
     },
     "execution_count": 18,
     "metadata": {},
     "output_type": "execute_result"
    }
   ],
   "source": [
    "b = msg_coord_out[msg_coord_out.lat>40].index.values;b\n",
    "tmp=[]\n",
    "for _,row in msg_base[msg_base.index.isin(b)].iterrows():\n",
    "    tmp.extend(row.bsid)\n",
    "f = set(df_out[df_out.index.isin(tmp)].index.values);len(f)\n",
    "df_out[df_out.index.isin(tmp)].index.values"
   ]
  },
  {
   "cell_type": "code",
   "execution_count": 19,
   "metadata": {
    "id": "ytpRXHDQ_1Uu",
    "outputId": "db763897-8116-4a5b-a6b0-80b6400be363"
   },
   "outputs": [
    {
     "name": "stdout",
     "output_type": "stream",
     "text": [
      " Les deux listes sont rigoureusement différente : True\n"
     ]
    }
   ],
   "source": [
    "print(f\" Les deux listes sont rigoureusement différente : {set(e)-set(f) == set(e)}\")\n",
    "#On voit que toutes les bases outliers sont capté par des messages dans des sites différents "
   ]
  },
  {
   "cell_type": "markdown",
   "metadata": {
    "id": "GW-Ytg-P_1Uv"
   },
   "source": [
    "# Conclusion : \n",
    "- Ces bases sont distinctes et liées de façon cohérente au reste de la base de données \n",
    "- Nous allons mettre en oeuvre un algo qui va corriger les bases sur le train ET le test."
   ]
  },
  {
   "cell_type": "markdown",
   "metadata": {
    "id": "BOp6vDID_1Uw"
   },
   "source": [
    "## Algo : pour corriger les coordonnées de ces bases outliers :\n",
    "\n",
    "1- Identifier les bases Outliers\\\n",
    "2- Identifier les messages étant captés par ces bases\\\n",
    "3- Produire le DataFrame avec des messages mais sans les bases\\\n",
    "4- Calculer le BaryCentre pondéré de tous les messages\\\n",
    "5- Dans le DataFrame principal, pour chaque base, prendre la moyenne de tous les BaryCentres calculés\\\n",
    "6- Mettre à jour les coordonées avec ce point"
   ]
  },
  {
   "cell_type": "code",
   "execution_count": 20,
   "metadata": {
    "id": "Umsp4Znp_1Uw"
   },
   "outputs": [],
   "source": [
    "df_mess_train = pd.read_csv('mess_train_list.csv')\n",
    "df_Coord_Base = df_mess_train[['bsid','bs_lat','bs_lng']].drop_duplicates(subset ='bsid', keep = 'first').set_index('bsid')\n",
    "\n",
    "df_out = df_Coord_Base[df_Coord_Base.bs_lat>64]\n",
    "base_in = df_mess_train[df_mess_train.bs_lat<64].bsid.unique()\n",
    "base_out = df_out.index.values\n",
    "msg_out = df_mess_train[df_mess_train.bsid.isin(base_out)].messid.unique()\n"
   ]
  },
  {
   "cell_type": "code",
   "execution_count": 21,
   "metadata": {
    "id": "6_Z-gdSa_1Uy"
   },
   "outputs": [],
   "source": [
    "old_coord_base_outliers = df_mess_train[df_mess_train.bsid.isin(base_out)][['bsid','bs_lat','bs_lng']].drop_duplicates(subset ='bsid', keep = 'first').set_index('bsid')"
   ]
  },
  {
   "cell_type": "code",
   "execution_count": 22,
   "metadata": {
    "id": "OMxSPwzt_1Uy",
    "outputId": "e549a985-956f-49a0-aeb9-53f0a06e3452"
   },
   "outputs": [
    {
     "data": {
      "text/plain": [
       "(27,)"
      ]
     },
     "execution_count": 22,
     "metadata": {},
     "output_type": "execute_result"
    }
   ],
   "source": [
    "#Toutes les bases outliers a repositionner\n",
    "base_out.shape"
   ]
  },
  {
   "cell_type": "code",
   "execution_count": 23,
   "metadata": {
    "id": "d1WL-dYI_1Uz",
    "outputId": "8e8e778b-da7d-49b1-f586-915920f5876c"
   },
   "outputs": [
    {
     "data": {
      "text/plain": [
       "(1849,)"
      ]
     },
     "execution_count": 23,
     "metadata": {},
     "output_type": "execute_result"
    }
   ],
   "source": [
    "#Tous les messages étant capté par ces bases\n",
    "msg_out.shape"
   ]
  },
  {
   "cell_type": "code",
   "execution_count": 24,
   "metadata": {
    "id": "9qkAVSop_1Uz"
   },
   "outputs": [],
   "source": [
    "#Le DataFrame avec que les messages capté par les bases outliers ET sans les bases outliers\n",
    "df_mess_out = df_mess_train[(df_mess_train.messid.isin(msg_out))&(~df_mess_train.bsid.isin(base_out))]"
   ]
  },
  {
   "cell_type": "code",
   "execution_count": 25,
   "metadata": {
    "id": "M6dpGH7A_1U0",
    "outputId": "d8be5102-1bb3-4634-f35d-b15b2cce4921"
   },
   "outputs": [
    {
     "data": {
      "text/plain": [
       "(1699, 2)"
      ]
     },
     "execution_count": 25,
     "metadata": {},
     "output_type": "execute_result"
    }
   ],
   "source": [
    "messid=[];coordW=[]\n",
    "group = df_mess_out.groupby('messid')\n",
    "\n",
    "for i in group.groups:\n",
    "    tmp=group.get_group(i)\n",
    "    rssi_reshape= (10**(tmp.rssi.values/10))\n",
    "    latW = tmp.bs_lat.values * rssi_reshape\n",
    "    lngW = tmp.bs_lng.values * rssi_reshape\n",
    "    messid.append(tmp.messid.unique()[0])\n",
    "    coordW.append((latW.sum()/rssi_reshape.sum(),lngW.sum()/rssi_reshape.sum()))\n",
    "msg_coordW = pd.DataFrame(data=coordW,index=messid,columns =['lat','lng'])\n",
    "#On a le barycentre de chaque message (sans tenir compte des bases outliers)\n",
    "msg_coordW.shape"
   ]
  },
  {
   "cell_type": "code",
   "execution_count": 26,
   "metadata": {
    "id": "4jOnceEf_1U1",
    "outputId": "de737033-6e4b-4f5d-bba9-7265b44a9643"
   },
   "outputs": [
    {
     "data": {
      "text/plain": [
       "(39082, 8)"
      ]
     },
     "execution_count": 26,
     "metadata": {},
     "output_type": "execute_result"
    }
   ],
   "source": [
    "#tous ces messages ne sont capté uniquement par les bases outliers\n",
    "df_clean =df_mess_train.drop(df_mess_train[~df_mess_train.messid.isin(df_mess_train[df_mess_train.bsid.isin(df_in.index.values)].messid.unique())].index)\n",
    "df_clean.shape"
   ]
  },
  {
   "cell_type": "code",
   "execution_count": 27,
   "metadata": {
    "id": "2BbRa9Z0_1U2"
   },
   "outputs": [],
   "source": [
    "bsid=[];coord=[]\n",
    "group = df_clean[df_clean.bsid.isin(base_out)].groupby('bsid')\n",
    "for i in group.indices:\n",
    "    bsid.append(i)\n",
    "    coord.append((msg_coordW.loc[group.get_group(i).messid.values].lat.mean(),msg_coordW.loc[group.get_group(i).messid.values].lng.mean()))\n",
    "bsid_relocated=pd.DataFrame(data=coord,index=bsid,columns =['lat','lng'])"
   ]
  },
  {
   "cell_type": "code",
   "execution_count": 28,
   "metadata": {
    "id": "-m3QRZWA_1U2"
   },
   "outputs": [],
   "source": [
    "for i in bsid_relocated.index:\n",
    "    df_mess_train.loc[df_mess_train.index[df_mess_train.bsid==i],'bs_lat']=bsid_relocated.loc[i].lat\n",
    "    df_mess_train.loc[df_mess_train.index[df_mess_train.bsid==i],'bs_lng']=bsid_relocated.loc[i].lng"
   ]
  },
  {
   "cell_type": "code",
   "execution_count": 29,
   "metadata": {
    "id": "g0BawGHQ_1U3"
   },
   "outputs": [],
   "source": [
    "check = df_mess_train[df_mess_train.bsid.isin(base_out)][['bsid','bs_lat','bs_lng']].drop_duplicates(subset ='bsid', keep = 'first').set_index('bsid')"
   ]
  },
  {
   "cell_type": "code",
   "execution_count": 30,
   "metadata": {
    "colab": {
     "referenced_widgets": [
      "6f375d4a65d84d41b45adaba5632b1dc"
     ]
    },
    "id": "LMDVcpC8_1U4",
    "outputId": "c2f07524-6fcd-4f52-80c6-5866b89746d7"
   },
   "outputs": [
    {
     "data": {
      "application/vnd.jupyter.widget-view+json": {
       "model_id": "3e839c485bf5400fb3865f0566d2d67a",
       "version_major": 2,
       "version_minor": 0
      },
      "text/plain": [
       "Map(center=[50.176696843049996, -87.98157291199999], controls=(ZoomControl(options=['position', 'zoom_in_text'…"
      ]
     },
     "metadata": {},
     "output_type": "display_data"
    }
   ],
   "source": [
    "m = Map(center=barycentre, zoom=3, basemap = basemaps.OpenStreetMap.Mapnik)\n",
    "\n",
    "denver = Draw_Dot(old_coord_base_outliers,color='red')\n",
    "for i in denver:\n",
    "    m.add_layer(i)\n",
    "\n",
    "\n",
    "denver_b = Draw_Dot(check,color='green')\n",
    "for i in denver_b :\n",
    "    m.add_layer(i)\n",
    "m"
   ]
  },
  {
   "cell_type": "code",
   "execution_count": null,
   "metadata": {
    "id": "DMf64vjK_1U4"
   },
   "outputs": [],
   "source": []
  },
  {
   "cell_type": "code",
   "execution_count": null,
   "metadata": {
    "id": "GZbieDuG_1U5"
   },
   "outputs": [],
   "source": []
  }
 ],
 "metadata": {
  "colab": {
   "collapsed_sections": [],
   "name": "3_BaseStation Validé Nico.ipynb",
   "provenance": []
  },
  "kernelspec": {
   "display_name": "Python 3",
   "language": "python",
   "name": "python3"
  },
  "language_info": {
   "codemirror_mode": {
    "name": "ipython",
    "version": 3
   },
   "file_extension": ".py",
   "mimetype": "text/x-python",
   "name": "python",
   "nbconvert_exporter": "python",
   "pygments_lexer": "ipython3",
   "version": "3.7.7"
  }
 },
 "nbformat": 4,
 "nbformat_minor": 1
}
