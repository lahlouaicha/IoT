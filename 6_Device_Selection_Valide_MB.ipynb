{
 "cells": [
  {
   "cell_type": "markdown",
   "metadata": {},
   "source": [
    "## Notebook 6 : Selection de Device"
   ]
  },
  {
   "cell_type": "markdown",
   "metadata": {
    "id": "vuaKgzp7ZEVO"
   },
   "source": [
    "<u>Objectif</u> : Le but de se notebook est de réaliser une étude sur les devices afin d'améliorer la prédiction de nos modèles.\n",
    "\n",
    "Ce notebook présente quatre approches : \n",
    "* Retirer les devices immobiles\n",
    "* Retirer les messages ayant été captés par des bases très lointaines \n",
    "* Combiner les deux premières approches\n",
    "* Variation de la deuxième approche en utilisant un seuil de distance maximal\n",
    "\n",
    "Ce notebook démontre que les deux premières approches ne donnent pas des résultats très fructueux.  "
   ]
  },
  {
   "cell_type": "code",
   "execution_count": 15,
   "metadata": {
    "id": "V4rJqt7HZEVP"
   },
   "outputs": [],
   "source": [
    "import pandas as pd\n",
    "pd.options.mode.chained_assignment = None \n",
    "import numpy as np\n",
    "from IotTools import *\n",
    "from sklearn.ensemble import RandomForestRegressor"
   ]
  },
  {
   "cell_type": "code",
   "execution_count": 17,
   "metadata": {
    "id": "3xKFV-7vZEVQ"
   },
   "outputs": [],
   "source": [
    "df_mess_train = pd.read_csv('mess_train_list.csv')\n",
    "df_mess_test = pd.read_csv('mess_test_list.csv')\n",
    "pos_train = pd.read_csv('pos_train_list.csv')\n",
    "listOfBs = np.union1d(df_mess_train.bsid.unique(),df_mess_test.bsid.unique())"
   ]
  },
  {
   "cell_type": "code",
   "execution_count": 18,
   "metadata": {
    "id": "dOgzdoLHZEVQ",
    "outputId": "de4bd259-bfa8-45ae-ec8b-c9e6d194a265"
   },
   "outputs": [
    {
     "data": {
      "text/html": [
       "<div>\n",
       "<style scoped>\n",
       "    .dataframe tbody tr th:only-of-type {\n",
       "        vertical-align: middle;\n",
       "    }\n",
       "\n",
       "    .dataframe tbody tr th {\n",
       "        vertical-align: top;\n",
       "    }\n",
       "\n",
       "    .dataframe thead th {\n",
       "        text-align: right;\n",
       "    }\n",
       "</style>\n",
       "<table border=\"1\" class=\"dataframe\">\n",
       "  <thead>\n",
       "    <tr style=\"text-align: right;\">\n",
       "      <th></th>\n",
       "      <th>lat</th>\n",
       "      <th>lng</th>\n",
       "    </tr>\n",
       "    <tr>\n",
       "      <th>messid</th>\n",
       "      <th></th>\n",
       "      <th></th>\n",
       "    </tr>\n",
       "  </thead>\n",
       "  <tbody>\n",
       "    <tr>\n",
       "      <th>573bf1d9864fce1a9af8c5c9</th>\n",
       "      <td>39.60669</td>\n",
       "      <td>-104.95849</td>\n",
       "    </tr>\n",
       "  </tbody>\n",
       "</table>\n",
       "</div>"
      ],
      "text/plain": [
       "                               lat        lng\n",
       "messid                                       \n",
       "573bf1d9864fce1a9af8c5c9  39.60669 -104.95849"
      ]
     },
     "execution_count": 18,
     "metadata": {},
     "output_type": "execute_result"
    }
   ],
   "source": [
    "#On crée la liste des messages avec leur coordonées\n",
    "pos_train['messid'] = df_mess_train.messid\n",
    "msg_coord = pos_train.groupby('messid').mean()\n",
    "msg_coord.head(1)"
   ]
  },
  {
   "cell_type": "code",
   "execution_count": 19,
   "metadata": {
    "id": "kwN1bME6ZEVR",
    "outputId": "58cf1881-49c6-46d7-ce25-203302245b13"
   },
   "outputs": [
    {
     "name": "stdout",
     "output_type": "stream",
     "text": [
      "Nous avons 27 bases outliers\n"
     ]
    }
   ],
   "source": [
    "#On corrige les bases\n",
    "X_train= Correct_Bases(df_mess_train)"
   ]
  },
  {
   "cell_type": "code",
   "execution_count": 20,
   "metadata": {
    "id": "R4K_dIm3ZEVR",
    "outputId": "83c3735a-a444-4d70-a4a9-5cf743d96c51"
   },
   "outputs": [
    {
     "data": {
      "text/html": [
       "<div>\n",
       "<style scoped>\n",
       "    .dataframe tbody tr th:only-of-type {\n",
       "        vertical-align: middle;\n",
       "    }\n",
       "\n",
       "    .dataframe tbody tr th {\n",
       "        vertical-align: top;\n",
       "    }\n",
       "\n",
       "    .dataframe thead th {\n",
       "        text-align: right;\n",
       "    }\n",
       "</style>\n",
       "<table border=\"1\" class=\"dataframe\">\n",
       "  <thead>\n",
       "    <tr style=\"text-align: right;\">\n",
       "      <th></th>\n",
       "      <th>messid</th>\n",
       "      <th>bsid</th>\n",
       "      <th>did</th>\n",
       "      <th>nseq</th>\n",
       "      <th>rssi</th>\n",
       "      <th>time_ux</th>\n",
       "      <th>bs_lat</th>\n",
       "      <th>bs_lng</th>\n",
       "      <th>dist</th>\n",
       "    </tr>\n",
       "  </thead>\n",
       "  <tbody>\n",
       "    <tr>\n",
       "      <th>0</th>\n",
       "      <td>573bf1d9864fce1a9af8c5c9</td>\n",
       "      <td>2841</td>\n",
       "      <td>473335.0</td>\n",
       "      <td>0.5</td>\n",
       "      <td>-121.5</td>\n",
       "      <td>1.463546e+12</td>\n",
       "      <td>39.617794</td>\n",
       "      <td>-104.954917</td>\n",
       "      <td>1.270478</td>\n",
       "    </tr>\n",
       "  </tbody>\n",
       "</table>\n",
       "</div>"
      ],
      "text/plain": [
       "                     messid  bsid       did  nseq   rssi       time_ux  \\\n",
       "0  573bf1d9864fce1a9af8c5c9  2841  473335.0   0.5 -121.5  1.463546e+12   \n",
       "\n",
       "      bs_lat      bs_lng      dist  \n",
       "0  39.617794 -104.954917  1.270478  "
      ]
     },
     "execution_count": 20,
     "metadata": {},
     "output_type": "execute_result"
    }
   ],
   "source": [
    "#On produit la feature des distances\n",
    "X_train['dist']=0\n",
    "for i in X_train.index:\n",
    "    base_coord = (X_train.iloc[i].bs_lat,X_train.iloc[i].bs_lng)\n",
    "    mess_coord = (msg_coord.loc[X_train.iloc[i].messid].lat,msg_coord.loc[X_train.iloc[i].messid].lng)\n",
    "    X_train.loc[i,'dist']=vincenty(base_coord,mess_coord)\n",
    "X_train.head(1)"
   ]
  },
  {
   "cell_type": "code",
   "execution_count": 21,
   "metadata": {
    "id": "rebA4wKoZEVS",
    "outputId": "eb42b34c-0e78-4f47-95d7-1dfad97641a7"
   },
   "outputs": [
    {
     "data": {
      "text/html": [
       "<div>\n",
       "<style scoped>\n",
       "    .dataframe tbody tr th:only-of-type {\n",
       "        vertical-align: middle;\n",
       "    }\n",
       "\n",
       "    .dataframe tbody tr th {\n",
       "        vertical-align: top;\n",
       "    }\n",
       "\n",
       "    .dataframe thead th {\n",
       "        text-align: right;\n",
       "    }\n",
       "</style>\n",
       "<table border=\"1\" class=\"dataframe\">\n",
       "  <thead>\n",
       "    <tr style=\"text-align: right;\">\n",
       "      <th></th>\n",
       "      <th>messid</th>\n",
       "      <th>bsid</th>\n",
       "      <th>did</th>\n",
       "      <th>nseq</th>\n",
       "      <th>rssi</th>\n",
       "      <th>time_ux</th>\n",
       "      <th>bs_lat</th>\n",
       "      <th>bs_lng</th>\n",
       "      <th>dist</th>\n",
       "      <th>lat</th>\n",
       "      <th>lng</th>\n",
       "    </tr>\n",
       "  </thead>\n",
       "  <tbody>\n",
       "    <tr>\n",
       "      <th>0</th>\n",
       "      <td>573bf1d9864fce1a9af8c5c9</td>\n",
       "      <td>2841</td>\n",
       "      <td>473335.0</td>\n",
       "      <td>0.5</td>\n",
       "      <td>-121.5</td>\n",
       "      <td>1.463546e+12</td>\n",
       "      <td>39.617794</td>\n",
       "      <td>-104.954917</td>\n",
       "      <td>1.270478</td>\n",
       "      <td>39.60669</td>\n",
       "      <td>-104.95849</td>\n",
       "    </tr>\n",
       "  </tbody>\n",
       "</table>\n",
       "</div>"
      ],
      "text/plain": [
       "                     messid  bsid       did  nseq   rssi       time_ux  \\\n",
       "0  573bf1d9864fce1a9af8c5c9  2841  473335.0   0.5 -121.5  1.463546e+12   \n",
       "\n",
       "      bs_lat      bs_lng      dist       lat        lng  \n",
       "0  39.617794 -104.954917  1.270478  39.60669 -104.95849  "
      ]
     },
     "execution_count": 21,
     "metadata": {},
     "output_type": "execute_result"
    }
   ],
   "source": [
    "# Ajout des coordonnées du message dans les features\n",
    "X_train = pd.merge(X_train,msg_coord,on='messid')\n",
    "X_train.head(1)"
   ]
  },
  {
   "cell_type": "markdown",
   "metadata": {
    "id": "8UrGTSvdZEVS"
   },
   "source": [
    "# Prédiction de référence\n",
    "Avant de rétirer des devices, nous allons faire une première prédiction pour utiliser son score comme référence  \n",
    "L'objectif, par la suite, est d'améliorer ce score en retirant des devices problématiques."
   ]
  },
  {
   "cell_type": "code",
   "execution_count": 22,
   "metadata": {
    "id": "1Ni0sjzBZEVS",
    "outputId": "0949e63a-f4df-4a2f-bbcb-5df7b9fb7e93"
   },
   "outputs": [
    {
     "data": {
      "text/plain": [
       "((6068, 3), (6068, 273))"
      ]
     },
     "execution_count": 22,
     "metadata": {},
     "output_type": "execute_result"
    }
   ],
   "source": [
    "df_feat, id_list=feat_mat_const(X_train, listOfBs)\n",
    "y_full = ground_truth_const(X_train, pos_train[['lat','lng']], id_list)\n",
    "y_full.shape,df_feat.shape"
   ]
  },
  {
   "cell_type": "code",
   "execution_count": 36,
   "metadata": {
    "id": "XsKONu66ZEVT",
    "outputId": "e0b9d961-6584-4dec-af79-f680a4234b31"
   },
   "outputs": [
    {
     "data": {
      "text/plain": [
       "3.333165"
      ]
     },
     "execution_count": 36,
     "metadata": {},
     "output_type": "execute_result"
    }
   ],
   "source": [
    "clf=RandomForestRegressor()\n",
    "y_pred_lng_Etr = cross_val_predict(clf, df_feat, y_full.lng, cv=3)\n",
    "y_pred_lat_Etr = cross_val_predict(clf, df_feat, y_full.lat, cv=3)\n",
    "err_vec = Eval_geoloc(y_full.lat , y_full.lng, y_pred_lat_Etr, y_pred_lng_Etr)\n",
    "np.percentile(err_vec, 80)"
   ]
  },
  {
   "cell_type": "markdown",
   "metadata": {},
   "source": [
    "Le **score de référence** est **3.33** en utilisant un modèle RandomForestRegressor."
   ]
  },
  {
   "cell_type": "markdown",
   "metadata": {
    "id": "kuhpQxmSZEVT"
   },
   "source": [
    "# Prédiction sans les devices\n",
    "Une étude réalisé dans le notebook 5 a permis de cibler 9 devices difficiles à prédire.  \n",
    "Ces devices ont été retirés de l'entrainement puis une prédiction a été réalisée en utilisant le même modèle que le point de référence."
   ]
  },
  {
   "cell_type": "code",
   "execution_count": 24,
   "metadata": {
    "id": "x-rGY1nlZEVT",
    "outputId": "1956d6e7-564d-4701-dd9e-f983fb8147d3"
   },
   "outputs": [
    {
     "data": {
      "text/plain": [
       "((4876, 3), (4876, 273))"
      ]
     },
     "execution_count": 24,
     "metadata": {},
     "output_type": "execute_result"
    }
   ],
   "source": [
    "a=[476598,476896,476256,476513,476889,476248,473288,476327,476836]\n",
    "X_mod = X_train[~X_train.did.isin(a)]\n",
    "df_feat, id_list=feat_mat_const(X_mod, listOfBs)\n",
    "y_full = ground_truth_const(X_mod, pos_train[['lat','lng']], id_list)\n",
    "y_full.shape,df_feat.shape"
   ]
  },
  {
   "cell_type": "code",
   "execution_count": 27,
   "metadata": {
    "id": "TUpBmRdKZEVU",
    "outputId": "f92f107e-7832-47db-a974-1fec4ce2acb6"
   },
   "outputs": [
    {
     "data": {
      "text/plain": [
       "2.612264"
      ]
     },
     "execution_count": 27,
     "metadata": {},
     "output_type": "execute_result"
    }
   ],
   "source": [
    "clf=RandomForestRegressor()\n",
    "y_pred_lng_Etr = cross_val_predict(clf, df_feat, y_full.lng, cv=3)\n",
    "y_pred_lat_Etr = cross_val_predict(clf, df_feat, y_full.lat, cv=3)\n",
    "err_vec = Eval_geoloc(y_full.lat , y_full.lng, y_pred_lat_Etr, y_pred_lng_Etr)\n",
    "np.percentile(err_vec, 80)"
   ]
  },
  {
   "cell_type": "markdown",
   "metadata": {},
   "source": [
    "En retirant neuf devices, le nouveau score est **2.61** s'améliore considérablement.  "
   ]
  },
  {
   "cell_type": "markdown",
   "metadata": {
    "id": "DjIfgsqqZEVU"
   },
   "source": [
    "# Idée 1 : les devices immobiles entrain un poids dans l'entrainement\n",
    "La première idée considérée est de supprimer les devices qui sont immobiles. Cette étude va permettre d'observer le poids d'un device qui est capté plusieurs fois par une base sans bouger."
   ]
  },
  {
   "cell_type": "code",
   "execution_count": 37,
   "metadata": {
    "id": "C_dawxQ6ZEVU",
    "outputId": "3ed76835-085c-450f-fc30-c4555a13e211"
   },
   "outputs": [
    {
     "data": {
      "text/plain": [
       "(39062, 14)"
      ]
     },
     "execution_count": 37,
     "metadata": {},
     "output_type": "execute_result"
    }
   ],
   "source": [
    "# Les bases ne contenant aucun message où les device n'ont pas bougé\n",
    "X_train_mob=X_train.drop_duplicates(subset=['bsid','lat','lng'])\n",
    "X_train_mob.shape"
   ]
  },
  {
   "cell_type": "code",
   "execution_count": null,
   "metadata": {
    "id": "VgM3teUfZEVU",
    "outputId": "58d33b0e-1ea3-4b11-ecaa-326e8f2d96b2"
   },
   "outputs": [
    {
     "data": {
      "text/plain": [
       "(188, 14)"
      ]
     },
     "execution_count": 12,
     "metadata": {
      "tags": []
     },
     "output_type": "execute_result"
    }
   ],
   "source": [
    "#tous les messages où le devices n'a pas bougé (il en reste 1 dans l'autre base)\n",
    "device_stop = X_train[~X_train.index.isin(X_train_mob.index)]\n",
    "device_stop.shape"
   ]
  },
  {
   "cell_type": "code",
   "execution_count": null,
   "metadata": {
    "id": "VZu-ILHxZEVV",
    "outputId": "fab8efbe-9597-4aba-a209-ae58267db64c"
   },
   "outputs": [
    {
     "data": {
      "text/plain": [
       "((6030, 3), (6030, 273))"
      ]
     },
     "execution_count": 13,
     "metadata": {
      "tags": []
     },
     "output_type": "execute_result"
    }
   ],
   "source": [
    "df_feat, id_list=feat_mat_const(X_train_mob, listOfBs)\n",
    "y_full = ground_truth_const(X_train_mob, pos_train[['lat','lng']], id_list)\n",
    "y_full.shape,df_feat.shape"
   ]
  },
  {
   "cell_type": "code",
   "execution_count": null,
   "metadata": {
    "id": "u4Jtq01mZEVV",
    "outputId": "9f690d76-7849-468b-afd6-f81174a505cb"
   },
   "outputs": [
    {
     "data": {
      "text/plain": [
       "3.1694637999999995"
      ]
     },
     "execution_count": 14,
     "metadata": {
      "tags": []
     },
     "output_type": "execute_result"
    }
   ],
   "source": [
    "clf=RandomForestRegressor()\n",
    "y_pred_lng_Etr = cross_val_predict(clf, df_feat, y_full.lng, cv=3)\n",
    "y_pred_lat_Etr = cross_val_predict(clf, df_feat, y_full.lat, cv=3)\n",
    "err_vec = Eval_geoloc(y_full.lat , y_full.lng, y_pred_lat_Etr, y_pred_lng_Etr)\n",
    "np.percentile(err_vec, 80)"
   ]
  },
  {
   "cell_type": "markdown",
   "metadata": {},
   "source": [
    "Le score passe à **3.169** ce qui est une amélioration. Toutefois, cette amélioration n'est pas significative.  \n",
    "Donc retirer ces données de l'entrainement n'est pas forcément une bonne idée."
   ]
  },
  {
   "cell_type": "markdown",
   "metadata": {
    "id": "wM1AUt0pZEVV"
   },
   "source": [
    "# Idée 2 : Suppression des messages captés par des bases lointaines\n",
    "Une autre intuition a été de supprimer les messages qui ont été anormalement reçus par des bases étant très loin des devices emetteurs."
   ]
  },
  {
   "cell_type": "code",
   "execution_count": 39,
   "metadata": {
    "id": "bU1LsHS0ZEVV"
   },
   "outputs": [
    {
     "data": {
      "image/png": "[encoded data removed]",
      "text/plain": [
       "<Figure size 432x288 with 1 Axes>"
      ]
     },
     "metadata": {
      "needs_background": "light"
     },
     "output_type": "display_data"
    }
   ],
   "source": [
    "## Présence importante d'outliers concernant la distance device - base\n",
    "X_train[['dist']].boxplot();"
   ]
  },
  {
   "cell_type": "code",
   "execution_count": null,
   "metadata": {
    "id": "r9Cr0Fn1ZEVW",
    "outputId": "986f27bb-1364-4b67-86e3-7e81704a10d1"
   },
   "outputs": [
    {
     "data": {
      "text/plain": [
       "(39070, 14)"
      ]
     },
     "execution_count": 15,
     "metadata": {
      "tags": []
     },
     "output_type": "execute_result"
    }
   ],
   "source": [
    "#Tous les messages étant capté à moins de 200 Km\n",
    "X_train_dist=X_train[X_train.dist<200]\n",
    "X_train_dist.shape"
   ]
  },
  {
   "cell_type": "code",
   "execution_count": null,
   "metadata": {
    "id": "7NIG01ADZEVW",
    "outputId": "381862c6-de57-4612-c2de-4a7e0fed6998"
   },
   "outputs": [
    {
     "data": {
      "text/plain": [
       "(180, 14)"
      ]
     },
     "execution_count": 16,
     "metadata": {
      "tags": []
     },
     "output_type": "execute_result"
    }
   ],
   "source": [
    "msg_too_long = X_train[~X_train.index.isin(X_train_dist.index)]\n",
    "msg_too_long.shape"
   ]
  },
  {
   "cell_type": "code",
   "execution_count": null,
   "metadata": {
    "id": "EZUMTZsiZEVW",
    "outputId": "668885fb-9dfa-4ecf-cddc-54f6c6d0e09b"
   },
   "outputs": [
    {
     "data": {
      "text/plain": [
       "((6020, 3), (6020, 273))"
      ]
     },
     "execution_count": 17,
     "metadata": {
      "tags": []
     },
     "output_type": "execute_result"
    }
   ],
   "source": [
    "df_feat, id_list=feat_mat_const(X_train_dist, listOfBs)\n",
    "y_full = ground_truth_const(X_train_dist, pos_train[['lat','lng']], id_list)\n",
    "y_full.shape,df_feat.shape"
   ]
  },
  {
   "cell_type": "code",
   "execution_count": null,
   "metadata": {
    "id": "O1DsXmECZEVW",
    "outputId": "76e6189d-6cca-409c-c0a8-a8c524d98654"
   },
   "outputs": [
    {
     "data": {
      "text/plain": [
       "3.20801"
      ]
     },
     "execution_count": 18,
     "metadata": {
      "tags": []
     },
     "output_type": "execute_result"
    }
   ],
   "source": [
    "clf=RandomForestRegressor()\n",
    "y_pred_lng_Etr = cross_val_predict(clf, df_feat, y_full.lng, cv=3)\n",
    "y_pred_lat_Etr = cross_val_predict(clf, df_feat, y_full.lat, cv=3)\n",
    "err_vec = Eval_geoloc(y_full.lat , y_full.lng, y_pred_lat_Etr, y_pred_lng_Etr)\n",
    "np.percentile(err_vec, 80)"
   ]
  },
  {
   "cell_type": "markdown",
   "metadata": {},
   "source": [
    "Encore une fois, le score baisse (**3.2**) mais, comme pour la première intuition, elle ne justifie pas la suppression de ces messages du dataset."
   ]
  },
  {
   "cell_type": "markdown",
   "metadata": {
    "id": "F5pwZgiXZEVX"
   },
   "source": [
    "# Combinons les 2 idées \n",
    "Les deux hypothèses ayant des résultants peu concluants, il a été décidé de combiner les deux approches."
   ]
  },
  {
   "cell_type": "code",
   "execution_count": null,
   "metadata": {
    "id": "zp57HEpaZEVX",
    "outputId": "a9966d2c-4133-46cf-ea83-c57b8d9d5d43"
   },
   "outputs": [
    {
     "data": {
      "text/plain": [
       "(188, 34)"
      ]
     },
     "execution_count": 19,
     "metadata": {
      "tags": []
     },
     "output_type": "execute_result"
    }
   ],
   "source": [
    "X_train_mob=X_train.drop_duplicates(subset=['bsid','lat','lng'])\n",
    "X_train_dist=X_train_mob[X_train_mob.dist<200]\n",
    "X_train.shape[0]-X_train_mob.shape[0],X_train_mob.shape[0]-X_train_dist.shape[0]"
   ]
  },
  {
   "cell_type": "code",
   "execution_count": null,
   "metadata": {
    "id": "vdZY0MV-ZEVX",
    "outputId": "7e6aec72-6759-4aa9-8b84-f174f5569961"
   },
   "outputs": [
    {
     "data": {
      "text/plain": [
       "((6017, 3), (6017, 273))"
      ]
     },
     "execution_count": 20,
     "metadata": {
      "tags": []
     },
     "output_type": "execute_result"
    }
   ],
   "source": [
    "df_feat, id_list=feat_mat_const(X_train_dist, listOfBs)\n",
    "y_full = ground_truth_const(X_train_dist, pos_train[['lat','lng']], id_list)\n",
    "y_full.shape,df_feat.shape"
   ]
  },
  {
   "cell_type": "code",
   "execution_count": null,
   "metadata": {
    "id": "3JQRrq5oZEVX",
    "outputId": "78727afb-f550-4730-ba95-4c3bd59e7bcd"
   },
   "outputs": [
    {
     "data": {
      "text/plain": [
       "3.2260444"
      ]
     },
     "execution_count": 21,
     "metadata": {
      "tags": []
     },
     "output_type": "execute_result"
    }
   ],
   "source": [
    "clf=RandomForestRegressor()\n",
    "y_pred_lng_Etr = cross_val_predict(clf, df_feat, y_full.lng, cv=3)\n",
    "y_pred_lat_Etr = cross_val_predict(clf, df_feat, y_full.lat, cv=3)\n",
    "err_vec = Eval_geoloc(y_full.lat , y_full.lng, y_pred_lat_Etr, y_pred_lng_Etr)\n",
    "np.percentile(err_vec, 80)"
   ]
  },
  {
   "cell_type": "markdown",
   "metadata": {},
   "source": [
    "Cette proposition est pire que les deux premières car elle donne de moins bons résultats."
   ]
  },
  {
   "cell_type": "markdown",
   "metadata": {
    "id": "RwGOip7oZEVY"
   },
   "source": [
    "# Conclusion\n",
    "Ainsi à l'aide de nos recherches, il est possible de conclure que les devices statiques et les messages captés à longue distance n'impactent pas les performances de prédiction."
   ]
  },
  {
   "cell_type": "markdown",
   "metadata": {
    "id": "fCpyeOdPZEVY"
   },
   "source": [
    "### Dernière intuition : Utilisation d'un seuil pour la distance maximale\n",
    "A l'aide du boxplot tracé ci-dessus, on observe qu'un nombre très important de messages captés avec une distance *device-base* dépassant largement 30 km.\n",
    "En fixant un seuil d'environ 40Km, on obtient des résultats très encourageants (environ **2.6**)"
   ]
  },
  {
   "cell_type": "markdown",
   "metadata": {
    "id": "Wik0NLq6ZEVY"
   },
   "source": [
    "### Seuil à 45Km, Score : 2.61\n",
    "En utilisant un seuil à 45 km (c'est-à-dire supprimer les messages dont la distance est supérieure à 45km), on observe une amélioration considérable du score (**2.61**) "
   ]
  },
  {
   "cell_type": "code",
   "execution_count": null,
   "metadata": {
    "id": "TOzk1HpcZEVY",
    "outputId": "68491f05-3948-4f30-8609-022201578296"
   },
   "outputs": [
    {
     "data": {
      "text/plain": [
       "(11, (9616, 14))"
      ]
     },
     "execution_count": 52,
     "metadata": {
      "tags": []
     },
     "output_type": "execute_result"
    }
   ],
   "source": [
    "#On retire les 3271 messages qui ont été capté de trop loin\n",
    "did_out = X_train[X_train.dist>45].did.unique()\n",
    "len(did_out),X_train[X_train.did.isin(did_out)].shape"
   ]
  },
  {
   "cell_type": "code",
   "execution_count": null,
   "metadata": {
    "id": "ojcKt-aqZEVY",
    "outputId": "4199ef5f-2793-4d39-a298-f08a10733e61"
   },
   "outputs": [
    {
     "data": {
      "text/plain": [
       "((4294, 3), (4294, 273))"
      ]
     },
     "execution_count": 53,
     "metadata": {
      "tags": []
     },
     "output_type": "execute_result"
    }
   ],
   "source": [
    "X_mod = X_train[~X_train.did.isin(did_out)]\n",
    "df_feat, id_list=feat_mat_const(X_mod, listOfBs)\n",
    "y_full = ground_truth_const(X_mod, pos_train[['lat','lng']], id_list)\n",
    "y_full.shape,df_feat.shape"
   ]
  },
  {
   "cell_type": "code",
   "execution_count": null,
   "metadata": {
    "id": "ko1K0JsfZEVY",
    "outputId": "b108e821-d658-480d-e2b4-0fe0c66ebce1"
   },
   "outputs": [
    {
     "data": {
      "text/plain": [
       "2.6150558000000004"
      ]
     },
     "execution_count": 54,
     "metadata": {
      "tags": []
     },
     "output_type": "execute_result"
    }
   ],
   "source": [
    "y_pred_lng_Etr = cross_val_predict(clf, df_feat, y_full.lng, cv=3)\n",
    "y_pred_lat_Etr = cross_val_predict(clf, df_feat, y_full.lat, cv=3)\n",
    "err_vec = Eval_geoloc(y_full.lat , y_full.lng, y_pred_lat_Etr, y_pred_lng_Etr)\n",
    "np.percentile(err_vec, 80)"
   ]
  },
  {
   "cell_type": "markdown",
   "metadata": {
    "id": "EpzNiUUPZEVZ"
   },
   "source": [
    "### Seuil à 40Km, Score : 2.60\n"
   ]
  },
  {
   "cell_type": "code",
   "execution_count": null,
   "metadata": {
    "id": "izSwKu_vZEVZ",
    "outputId": "23aed9ed-ec48-4650-cda1-8c59ae32785a"
   },
   "outputs": [
    {
     "data": {
      "text/plain": [
       "(14, (14283, 14))"
      ]
     },
     "execution_count": 60,
     "metadata": {
      "tags": []
     },
     "output_type": "execute_result"
    }
   ],
   "source": [
    "did_out = X_train[X_train.dist>40].did.unique()\n",
    "len(did_out),X_train[X_train.did.isin(did_out)].shape"
   ]
  },
  {
   "cell_type": "code",
   "execution_count": null,
   "metadata": {
    "id": "1FkSPGehZEVa",
    "outputId": "ced089fa-e59d-4b66-8de8-e4a3c486c919"
   },
   "outputs": [
    {
     "data": {
      "text/plain": [
       "((4122, 3), (4122, 273))"
      ]
     },
     "execution_count": 61,
     "metadata": {
      "tags": []
     },
     "output_type": "execute_result"
    }
   ],
   "source": [
    "X_mod = X_train[~X_train.did.isin(did_out)]\n",
    "df_feat, id_list=feat_mat_const(X_mod, listOfBs)\n",
    "y_full = ground_truth_const(X_mod, pos_train[['lat','lng']], id_list)\n",
    "y_full.shape,df_feat.shape"
   ]
  },
  {
   "cell_type": "code",
   "execution_count": null,
   "metadata": {
    "id": "DIZAsl8JZEVa",
    "outputId": "e662a005-7d69-458c-a15c-d66ef5f18970"
   },
   "outputs": [
    {
     "data": {
      "text/plain": [
       "2.6047738000000003"
      ]
     },
     "execution_count": 62,
     "metadata": {
      "tags": []
     },
     "output_type": "execute_result"
    }
   ],
   "source": [
    "y_pred_lng_Etr = cross_val_predict(clf, df_feat, y_full.lng, cv=3)\n",
    "y_pred_lat_Etr = cross_val_predict(clf, df_feat, y_full.lat, cv=3)\n",
    "err_vec = Eval_geoloc(y_full.lat , y_full.lng, y_pred_lat_Etr, y_pred_lng_Etr)\n",
    "np.percentile(err_vec, 80)"
   ]
  },
  {
   "cell_type": "markdown",
   "metadata": {
    "id": "SqgE9eGWZEVb"
   },
   "source": [
    "### Seuil à 35Km, Score : 2.61"
   ]
  },
  {
   "cell_type": "code",
   "execution_count": null,
   "metadata": {
    "id": "b3qkCTmVZEVb",
    "outputId": "7af97e53-e9a0-40d6-9b38-2f7e926e92f1"
   },
   "outputs": [
    {
     "data": {
      "text/plain": [
       "(15, (14673, 14))"
      ]
     },
     "execution_count": 63,
     "metadata": {
      "tags": []
     },
     "output_type": "execute_result"
    }
   ],
   "source": [
    "did_out = X_train[X_train.dist>35].did.unique()\n",
    "len(did_out),X_train[X_train.did.isin(did_out)].shape"
   ]
  },
  {
   "cell_type": "code",
   "execution_count": null,
   "metadata": {
    "id": "sGzgraS2ZEVb",
    "outputId": "5bb2421c-72fc-4063-d050-28a1b6570327"
   },
   "outputs": [
    {
     "data": {
      "text/plain": [
       "((4066, 3), (4066, 273))"
      ]
     },
     "execution_count": 64,
     "metadata": {
      "tags": []
     },
     "output_type": "execute_result"
    }
   ],
   "source": [
    "X_mod = X_train[~X_train.did.isin(did_out)]\n",
    "df_feat, id_list=feat_mat_const(X_mod, listOfBs)\n",
    "y_full = ground_truth_const(X_mod, pos_train[['lat','lng']], id_list)\n",
    "y_full.shape,df_feat.shape"
   ]
  },
  {
   "cell_type": "code",
   "execution_count": null,
   "metadata": {
    "id": "J1c4p8yPZEVb",
    "outputId": "0c7ef50a-c4bb-45d8-d6ef-3231e7f6b3d9"
   },
   "outputs": [
    {
     "data": {
      "text/plain": [
       "2.613954"
      ]
     },
     "execution_count": 65,
     "metadata": {
      "tags": []
     },
     "output_type": "execute_result"
    }
   ],
   "source": [
    "df_feat, id_list=feat_mat_const(X_mod, listOfBs)\n",
    "y_full = ground_truth_const(X_mod, pos_train[['lat','lng']], id_list)\n",
    "clf=RandomForestRegressor()\n",
    "y_pred_lng_Etr = cross_val_predict(clf, df_feat, y_full.lng, cv=3)\n",
    "y_pred_lat_Etr = cross_val_predict(clf, df_feat, y_full.lat, cv=3)\n",
    "err_vec = Eval_geoloc(y_full.lat , y_full.lng, y_pred_lat_Etr, y_pred_lng_Etr)\n",
    "np.percentile(err_vec, 80)"
   ]
  }
 ],
 "metadata": {
  "colab": {
   "name": "6_Device_Selection.ipynb",
   "provenance": []
  },
  "kernelspec": {
   "display_name": "Python 3",
   "language": "python",
   "name": "python3"
  },
  "language_info": {
   "codemirror_mode": {
    "name": "ipython",
    "version": 3
   },
   "file_extension": ".py",
   "mimetype": "text/x-python",
   "name": "python",
   "nbconvert_exporter": "python",
   "pygments_lexer": "ipython3",
   "version": "3.8.5"
  }
 },
 "nbformat": 4,
 "nbformat_minor": 1
}
