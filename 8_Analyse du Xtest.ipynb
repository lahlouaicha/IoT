{
 "cells": [
  {
   "cell_type": "code",
   "execution_count": 1,
   "metadata": {
    "id": "-D3ZdQ1p9QZY"
   },
   "outputs": [],
   "source": [
    "import pandas as pd\n",
    "import numpy as np\n",
    "from IotTools import *\n",
    "from IpyTools import *\n",
    "from ipyleaflet import Map, basemaps"
   ]
  },
  {
   "cell_type": "code",
   "execution_count": 2,
   "metadata": {
    "id": "FCn-nTJO9QZf"
   },
   "outputs": [],
   "source": [
    "df_mess_test = pd.read_csv('mess_test_list.csv')"
   ]
  },
  {
   "cell_type": "code",
   "execution_count": 3,
   "metadata": {
    "id": "GKHTUU_m9QZf",
    "outputId": "689d5700-9a2a-45da-a4ad-fd213ee89458"
   },
   "outputs": [
    {
     "name": "stdout",
     "output_type": "stream",
     "text": [
      "Nous avons 23 bases outliers\n",
      "Base 9949 non vu\n",
      "il reste 2 base avec lat >60\n"
     ]
    }
   ],
   "source": [
    "#Pour le jupyter la correction manuelle est désactivée\n",
    "X_test= Correct_Bases (df_mess_test,False)"
   ]
  },
  {
   "cell_type": "markdown",
   "metadata": {
    "id": "Voo7lqYl9QZg"
   },
   "source": [
    "# Vérifions la position des bases du X_test avant et après la correction"
   ]
  },
  {
   "cell_type": "code",
   "execution_count": 4,
   "metadata": {
    "id": "QA3oNPly9QZg",
    "outputId": "c4f75cde-9d00-4e61-8397-c50b9802855d"
   },
   "outputs": [
    {
     "data": {
      "image/png": "[encoded data removed]",
      "text/plain": [
       "<Figure size 432x288 with 1 Axes>"
      ]
     },
     "metadata": {
      "needs_background": "light"
     },
     "output_type": "display_data"
    }
   ],
   "source": [
    "df_Coord_Base = df_mess_test[['bsid','bs_lat','bs_lng']].drop_duplicates(subset ='bsid', keep = 'first').set_index('bsid')\n",
    "df_Coord_Base.head(1)\n",
    "df_Coord_Base.plot(kind='hist',bins=20);"
   ]
  },
  {
   "cell_type": "code",
   "execution_count": 5,
   "metadata": {
    "id": "9jKdwvjD9QZh",
    "outputId": "e377f064-57a2-4be0-aa33-c96f82882de9"
   },
   "outputs": [
    {
     "data": {
      "text/plain": [
       "(50.414352225749994, -89.72859069949999)"
      ]
     },
     "execution_count": 5,
     "metadata": {},
     "output_type": "execute_result"
    }
   ],
   "source": [
    "barycentre = ((df_Coord_Base.bs_lat.max()+df_Coord_Base.bs_lat.min())/2,(df_Coord_Base.bs_lng.min()+df_Coord_Base.bs_lng.max())/2)\n",
    "barycentre"
   ]
  },
  {
   "cell_type": "code",
   "execution_count": 6,
   "metadata": {
    "id": "GpNvzlB69QZh",
    "outputId": "4126fe92-ca46-496c-ea59-a6f75c44d8dd"
   },
   "outputs": [
    {
     "data": {
      "text/plain": [
       "((23, 2), (145, 2), (168, 2))"
      ]
     },
     "execution_count": 6,
     "metadata": {},
     "output_type": "execute_result"
    }
   ],
   "source": [
    "df_out = df_Coord_Base[df_Coord_Base.bs_lat>60]\n",
    "df_in = df_Coord_Base.drop(df_out.index)\n",
    "df_out.shape,df_in.shape,df_Coord_Base.shape"
   ]
  },
  {
   "cell_type": "code",
   "execution_count": 7,
   "metadata": {
    "colab": {
     "referenced_widgets": [
      "a65a73cde35c44dcb84d9568949615bd"
     ]
    },
    "id": "KpeDMT4m9QZi",
    "outputId": "ad3e9d8c-260d-45fb-a7e6-0d721304d3f3"
   },
   "outputs": [
    {
     "data": {
      "application/vnd.jupyter.widget-view+json": {
       "model_id": "7afafb7942594b319e4534618f7d35e5",
       "version_major": 2,
       "version_minor": 0
      },
      "text/plain": [
       "Map(center=[50.414352225749994, -89.72859069949999], controls=(ZoomControl(options=['position', 'zoom_in_text'…"
      ]
     },
     "metadata": {},
     "output_type": "display_data"
    }
   ],
   "source": [
    "m = Map(center=barycentre, zoom=3, basemap = basemaps.OpenStreetMap.Mapnik)\n",
    "\n",
    "dot_in = Give_Marker_Cluster(df_Coord_Base)\n",
    "\n",
    "dot_out = Give_Marker_Cluster(df_out)\n",
    "\n",
    "m.add_layer(dot_in)\n",
    "\n",
    "m.add_layer(dot_out)\n",
    "m"
   ]
  },
  {
   "cell_type": "code",
   "execution_count": 8,
   "metadata": {
    "id": "EnqICu0l9QZi"
   },
   "outputs": [],
   "source": [
    "df_Coord_Base_Corr = X_test[['bsid','bs_lat','bs_lng']].drop_duplicates(subset ='bsid', keep = 'first').set_index('bsid')"
   ]
  },
  {
   "cell_type": "code",
   "execution_count": 9,
   "metadata": {
    "colab": {
     "referenced_widgets": [
      "0ada94803ef545bb8d452701cbf82a5f"
     ]
    },
    "id": "vF4e2Ylh9QZj",
    "outputId": "c14afb75-a7c8-41ba-ce13-fd18ca68c37e"
   },
   "outputs": [
    {
     "data": {
      "application/vnd.jupyter.widget-view+json": {
       "model_id": "cd4e6dc67ead460dabcdf9899a036e26",
       "version_major": 2,
       "version_minor": 0
      },
      "text/plain": [
       "Map(center=[50.414352225749994, -89.72859069949999], controls=(ZoomControl(options=['position', 'zoom_in_text'…"
      ]
     },
     "metadata": {},
     "output_type": "display_data"
    }
   ],
   "source": [
    "m = Map(center=barycentre, zoom=3, basemap = basemaps.OpenStreetMap.Mapnik)\n",
    "dot_in = Give_Marker_Cluster(df_Coord_Base_Corr)\n",
    "m.add_layer(dot_in)\n",
    "m"
   ]
  },
  {
   "cell_type": "markdown",
   "metadata": {
    "id": "GelriaUO9QZj"
   },
   "source": [
    "# On voit que notre système de correction fonctionne bien hormis pour une base"
   ]
  },
  {
   "cell_type": "code",
   "execution_count": 10,
   "metadata": {
    "id": "Shq8SR0Q9QZj",
    "outputId": "8bab2d9f-c6c8-4a7d-a408-6fd8722c5080"
   },
   "outputs": [
    {
     "data": {
      "text/plain": [
       "array([9949], dtype=int64)"
      ]
     },
     "execution_count": 10,
     "metadata": {},
     "output_type": "execute_result"
    }
   ],
   "source": [
    "X_test[X_test.bs_lat>60].bsid.unique()"
   ]
  },
  {
   "cell_type": "code",
   "execution_count": 11,
   "metadata": {
    "id": "Rmdm-7xE9QZk",
    "outputId": "65099b83-7fc0-4ba9-870b-61a3a112dd8b"
   },
   "outputs": [
    {
     "data": {
      "text/html": [
       "<div>\n",
       "<style scoped>\n",
       "    .dataframe tbody tr th:only-of-type {\n",
       "        vertical-align: middle;\n",
       "    }\n",
       "\n",
       "    .dataframe tbody tr th {\n",
       "        vertical-align: top;\n",
       "    }\n",
       "\n",
       "    .dataframe thead th {\n",
       "        text-align: right;\n",
       "    }\n",
       "</style>\n",
       "<table border=\"1\" class=\"dataframe\">\n",
       "  <thead>\n",
       "    <tr style=\"text-align: right;\">\n",
       "      <th></th>\n",
       "      <th>messid</th>\n",
       "      <th>bsid</th>\n",
       "      <th>did</th>\n",
       "      <th>nseq</th>\n",
       "      <th>rssi</th>\n",
       "      <th>time_ux</th>\n",
       "      <th>bs_lat</th>\n",
       "      <th>bs_lng</th>\n",
       "    </tr>\n",
       "  </thead>\n",
       "  <tbody>\n",
       "    <tr>\n",
       "      <th>13431</th>\n",
       "      <td>57b99c16cf554f465ad8de48</td>\n",
       "      <td>9949</td>\n",
       "      <td>472066.0</td>\n",
       "      <td>2.0</td>\n",
       "      <td>-122.000000</td>\n",
       "      <td>1.471782e+12</td>\n",
       "      <td>64.3</td>\n",
       "      <td>-68.5</td>\n",
       "    </tr>\n",
       "    <tr>\n",
       "      <th>13434</th>\n",
       "      <td>57b9eff912f1434591626c19</td>\n",
       "      <td>9949</td>\n",
       "      <td>472066.0</td>\n",
       "      <td>1.0</td>\n",
       "      <td>-118.666667</td>\n",
       "      <td>1.471803e+12</td>\n",
       "      <td>64.3</td>\n",
       "      <td>-68.5</td>\n",
       "    </tr>\n",
       "  </tbody>\n",
       "</table>\n",
       "</div>"
      ],
      "text/plain": [
       "                         messid  bsid       did  nseq        rssi  \\\n",
       "13431  57b99c16cf554f465ad8de48  9949  472066.0   2.0 -122.000000   \n",
       "13434  57b9eff912f1434591626c19  9949  472066.0   1.0 -118.666667   \n",
       "\n",
       "            time_ux  bs_lat  bs_lng  \n",
       "13431  1.471782e+12    64.3   -68.5  \n",
       "13434  1.471803e+12    64.3   -68.5  "
      ]
     },
     "execution_count": 11,
     "metadata": {},
     "output_type": "execute_result"
    }
   ],
   "source": [
    "df_mess_test[df_mess_test.bsid==9949]"
   ]
  },
  {
   "cell_type": "code",
   "execution_count": 12,
   "metadata": {
    "id": "r1p7T7rp9QZk",
    "outputId": "c6c8641c-bc09-44eb-a729-47d09c14edb9"
   },
   "outputs": [
    {
     "data": {
      "text/html": [
       "<div>\n",
       "<style scoped>\n",
       "    .dataframe tbody tr th:only-of-type {\n",
       "        vertical-align: middle;\n",
       "    }\n",
       "\n",
       "    .dataframe tbody tr th {\n",
       "        vertical-align: top;\n",
       "    }\n",
       "\n",
       "    .dataframe thead th {\n",
       "        text-align: right;\n",
       "    }\n",
       "</style>\n",
       "<table border=\"1\" class=\"dataframe\">\n",
       "  <thead>\n",
       "    <tr style=\"text-align: right;\">\n",
       "      <th></th>\n",
       "      <th>messid</th>\n",
       "      <th>bsid</th>\n",
       "      <th>did</th>\n",
       "      <th>nseq</th>\n",
       "      <th>rssi</th>\n",
       "      <th>time_ux</th>\n",
       "      <th>bs_lat</th>\n",
       "      <th>bs_lng</th>\n",
       "    </tr>\n",
       "  </thead>\n",
       "  <tbody>\n",
       "    <tr>\n",
       "      <th>13431</th>\n",
       "      <td>57b99c16cf554f465ad8de48</td>\n",
       "      <td>9949</td>\n",
       "      <td>472066.0</td>\n",
       "      <td>2.0</td>\n",
       "      <td>-122.0</td>\n",
       "      <td>1.471782e+12</td>\n",
       "      <td>64.3</td>\n",
       "      <td>-68.5</td>\n",
       "    </tr>\n",
       "  </tbody>\n",
       "</table>\n",
       "</div>"
      ],
      "text/plain": [
       "                         messid  bsid       did  nseq   rssi       time_ux  \\\n",
       "13431  57b99c16cf554f465ad8de48  9949  472066.0   2.0 -122.0  1.471782e+12   \n",
       "\n",
       "       bs_lat  bs_lng  \n",
       "13431    64.3   -68.5  "
      ]
     },
     "execution_count": 12,
     "metadata": {},
     "output_type": "execute_result"
    }
   ],
   "source": [
    "X_test[X_test.bs_lat>64].drop_duplicates('bsid')"
   ]
  },
  {
   "cell_type": "markdown",
   "metadata": {
    "id": "F_tU4bpL9QZk"
   },
   "source": [
    "# On voit qu'une seule base reste mal placée, qu'elle ne détecte qu'un seul device "
   ]
  },
  {
   "cell_type": "code",
   "execution_count": 13,
   "metadata": {
    "id": "Ns68L_Zy9QZk",
    "outputId": "32389b7b-5bb3-4ae7-ca40-c826bb6ca511"
   },
   "outputs": [
    {
     "data": {
      "text/plain": [
       "array([9949], dtype=int64)"
      ]
     },
     "execution_count": 13,
     "metadata": {},
     "output_type": "execute_result"
    }
   ],
   "source": [
    "X_test[X_test.bs_lat>64].bsid.unique()"
   ]
  },
  {
   "cell_type": "code",
   "execution_count": 14,
   "metadata": {
    "id": "XDXz94bx9QZl",
    "outputId": "6e45a36c-cf12-4c50-d663-7d03c005cd0f"
   },
   "outputs": [
    {
     "data": {
      "text/plain": [
       "array([472066.])"
      ]
     },
     "execution_count": 14,
     "metadata": {},
     "output_type": "execute_result"
    }
   ],
   "source": [
    "X_test[X_test.bsid==9949].did.unique()"
   ]
  },
  {
   "cell_type": "markdown",
   "metadata": {
    "id": "i6QAoEo79QZl"
   },
   "source": [
    "# de part sa configuration il nous ai impossible de corriger automatique la position de cette base."
   ]
  },
  {
   "cell_type": "code",
   "execution_count": 15,
   "metadata": {
    "id": "-ctm23BH9QZm",
    "outputId": "9fe51625-3547-4457-cbf2-32b8b3452262"
   },
   "outputs": [
    {
     "data": {
      "text/html": [
       "<div>\n",
       "<style scoped>\n",
       "    .dataframe tbody tr th:only-of-type {\n",
       "        vertical-align: middle;\n",
       "    }\n",
       "\n",
       "    .dataframe tbody tr th {\n",
       "        vertical-align: top;\n",
       "    }\n",
       "\n",
       "    .dataframe thead th {\n",
       "        text-align: right;\n",
       "    }\n",
       "</style>\n",
       "<table border=\"1\" class=\"dataframe\">\n",
       "  <thead>\n",
       "    <tr style=\"text-align: right;\">\n",
       "      <th></th>\n",
       "      <th>messid</th>\n",
       "      <th>bsid</th>\n",
       "      <th>did</th>\n",
       "      <th>nseq</th>\n",
       "      <th>rssi</th>\n",
       "      <th>time_ux</th>\n",
       "      <th>bs_lat</th>\n",
       "      <th>bs_lng</th>\n",
       "    </tr>\n",
       "  </thead>\n",
       "  <tbody>\n",
       "    <tr>\n",
       "      <th>13431</th>\n",
       "      <td>57b99c16cf554f465ad8de48</td>\n",
       "      <td>9949</td>\n",
       "      <td>472066.0</td>\n",
       "      <td>2.0</td>\n",
       "      <td>-122.000000</td>\n",
       "      <td>1.471782e+12</td>\n",
       "      <td>64.300000</td>\n",
       "      <td>-68.500000</td>\n",
       "    </tr>\n",
       "    <tr>\n",
       "      <th>13434</th>\n",
       "      <td>57b9eff912f1434591626c19</td>\n",
       "      <td>9949</td>\n",
       "      <td>472066.0</td>\n",
       "      <td>1.0</td>\n",
       "      <td>-118.666667</td>\n",
       "      <td>1.471803e+12</td>\n",
       "      <td>64.300000</td>\n",
       "      <td>-68.500000</td>\n",
       "    </tr>\n",
       "    <tr>\n",
       "      <th>14667</th>\n",
       "      <td>57cbf92412f1437531983238</td>\n",
       "      <td>9936</td>\n",
       "      <td>472066.0</td>\n",
       "      <td>1.0</td>\n",
       "      <td>-118.333333</td>\n",
       "      <td>1.472985e+12</td>\n",
       "      <td>48.072889</td>\n",
       "      <td>-110.957181</td>\n",
       "    </tr>\n",
       "    <tr>\n",
       "      <th>14668</th>\n",
       "      <td>57cbf92412f1437531983238</td>\n",
       "      <td>9941</td>\n",
       "      <td>472066.0</td>\n",
       "      <td>1.0</td>\n",
       "      <td>-123.500000</td>\n",
       "      <td>1.472985e+12</td>\n",
       "      <td>48.072889</td>\n",
       "      <td>-110.957181</td>\n",
       "    </tr>\n",
       "    <tr>\n",
       "      <th>14669</th>\n",
       "      <td>57cbfbbfcf554f22dc736cb2</td>\n",
       "      <td>9936</td>\n",
       "      <td>472066.0</td>\n",
       "      <td>1.0</td>\n",
       "      <td>-111.333333</td>\n",
       "      <td>1.472986e+12</td>\n",
       "      <td>48.072889</td>\n",
       "      <td>-110.957181</td>\n",
       "    </tr>\n",
       "    <tr>\n",
       "      <th>14670</th>\n",
       "      <td>57cbfbbfcf554f22dc736cb2</td>\n",
       "      <td>9941</td>\n",
       "      <td>472066.0</td>\n",
       "      <td>1.0</td>\n",
       "      <td>-124.666667</td>\n",
       "      <td>1.472986e+12</td>\n",
       "      <td>48.072889</td>\n",
       "      <td>-110.957181</td>\n",
       "    </tr>\n",
       "    <tr>\n",
       "      <th>14989</th>\n",
       "      <td>57cfe9e9e541cd01b30fe633</td>\n",
       "      <td>9936</td>\n",
       "      <td>472066.0</td>\n",
       "      <td>1.0</td>\n",
       "      <td>-113.666667</td>\n",
       "      <td>1.473244e+12</td>\n",
       "      <td>48.072889</td>\n",
       "      <td>-110.957181</td>\n",
       "    </tr>\n",
       "    <tr>\n",
       "      <th>28670</th>\n",
       "      <td>5843e9a6cf554f422f2b7495</td>\n",
       "      <td>9936</td>\n",
       "      <td>472066.0</td>\n",
       "      <td>1.0</td>\n",
       "      <td>-127.500000</td>\n",
       "      <td>1.480846e+12</td>\n",
       "      <td>48.072889</td>\n",
       "      <td>-110.957181</td>\n",
       "    </tr>\n",
       "    <tr>\n",
       "      <th>28671</th>\n",
       "      <td>5843e9a6cf554f422f2b7495</td>\n",
       "      <td>9941</td>\n",
       "      <td>472066.0</td>\n",
       "      <td>2.0</td>\n",
       "      <td>-135.000000</td>\n",
       "      <td>1.480846e+12</td>\n",
       "      <td>48.072889</td>\n",
       "      <td>-110.957181</td>\n",
       "    </tr>\n",
       "  </tbody>\n",
       "</table>\n",
       "</div>"
      ],
      "text/plain": [
       "                         messid  bsid       did  nseq        rssi  \\\n",
       "13431  57b99c16cf554f465ad8de48  9949  472066.0   2.0 -122.000000   \n",
       "13434  57b9eff912f1434591626c19  9949  472066.0   1.0 -118.666667   \n",
       "14667  57cbf92412f1437531983238  9936  472066.0   1.0 -118.333333   \n",
       "14668  57cbf92412f1437531983238  9941  472066.0   1.0 -123.500000   \n",
       "14669  57cbfbbfcf554f22dc736cb2  9936  472066.0   1.0 -111.333333   \n",
       "14670  57cbfbbfcf554f22dc736cb2  9941  472066.0   1.0 -124.666667   \n",
       "14989  57cfe9e9e541cd01b30fe633  9936  472066.0   1.0 -113.666667   \n",
       "28670  5843e9a6cf554f422f2b7495  9936  472066.0   1.0 -127.500000   \n",
       "28671  5843e9a6cf554f422f2b7495  9941  472066.0   2.0 -135.000000   \n",
       "\n",
       "            time_ux     bs_lat      bs_lng  \n",
       "13431  1.471782e+12  64.300000  -68.500000  \n",
       "13434  1.471803e+12  64.300000  -68.500000  \n",
       "14667  1.472985e+12  48.072889 -110.957181  \n",
       "14668  1.472985e+12  48.072889 -110.957181  \n",
       "14669  1.472986e+12  48.072889 -110.957181  \n",
       "14670  1.472986e+12  48.072889 -110.957181  \n",
       "14989  1.473244e+12  48.072889 -110.957181  \n",
       "28670  1.480846e+12  48.072889 -110.957181  \n",
       "28671  1.480846e+12  48.072889 -110.957181  "
      ]
     },
     "execution_count": 15,
     "metadata": {},
     "output_type": "execute_result"
    }
   ],
   "source": [
    "X_test[X_test.did==472066.0]"
   ]
  },
  {
   "cell_type": "markdown",
   "metadata": {
    "id": "iLSGSuXk9QZm"
   },
   "source": [
    "# Conclusion : au vu de la situation nous ferons une correction manuelle."
   ]
  },
  {
   "cell_type": "code",
   "execution_count": 16,
   "metadata": {
    "id": "1u4H8F7s9QZm",
    "outputId": "0c071e91-b830-406e-9ae9-80b800708788"
   },
   "outputs": [
    {
     "name": "stdout",
     "output_type": "stream",
     "text": [
      "True\n"
     ]
    }
   ],
   "source": [
    "if (X_test[X_test.bsid==1].index.values).size == 0:\n",
    "    print(True)\n",
    "else :\n",
    "    print(False)"
   ]
  },
  {
   "cell_type": "code",
   "execution_count": 17,
   "metadata": {
    "id": "LZdqd5Ln9QZn"
   },
   "outputs": [],
   "source": [
    "a= X_test[X_test.bsid==9949].index.values\n",
    "a=list(a)"
   ]
  },
  {
   "cell_type": "code",
   "execution_count": 18,
   "metadata": {
    "id": "ZEIX3Ubw9QZn"
   },
   "outputs": [],
   "source": [
    "X_test.loc[X_test[X_test.bsid==9949].index.values,'bs_lat']=48.072889\n",
    "X_test.loc[X_test[X_test.bsid==9949].index.values,'bs_lng']=-110.957181"
   ]
  },
  {
   "cell_type": "code",
   "execution_count": 19,
   "metadata": {
    "id": "oq9MhIhr9QZn",
    "outputId": "f5146cca-0131-4a19-8a96-4665c1177898"
   },
   "outputs": [
    {
     "data": {
      "text/html": [
       "<div>\n",
       "<style scoped>\n",
       "    .dataframe tbody tr th:only-of-type {\n",
       "        vertical-align: middle;\n",
       "    }\n",
       "\n",
       "    .dataframe tbody tr th {\n",
       "        vertical-align: top;\n",
       "    }\n",
       "\n",
       "    .dataframe thead th {\n",
       "        text-align: right;\n",
       "    }\n",
       "</style>\n",
       "<table border=\"1\" class=\"dataframe\">\n",
       "  <thead>\n",
       "    <tr style=\"text-align: right;\">\n",
       "      <th></th>\n",
       "      <th>messid</th>\n",
       "      <th>bsid</th>\n",
       "      <th>did</th>\n",
       "      <th>nseq</th>\n",
       "      <th>rssi</th>\n",
       "      <th>time_ux</th>\n",
       "      <th>bs_lat</th>\n",
       "      <th>bs_lng</th>\n",
       "    </tr>\n",
       "  </thead>\n",
       "  <tbody>\n",
       "    <tr>\n",
       "      <th>13431</th>\n",
       "      <td>57b99c16cf554f465ad8de48</td>\n",
       "      <td>9949</td>\n",
       "      <td>472066.0</td>\n",
       "      <td>2.0</td>\n",
       "      <td>-122.000000</td>\n",
       "      <td>1.471782e+12</td>\n",
       "      <td>48.072889</td>\n",
       "      <td>-110.957181</td>\n",
       "    </tr>\n",
       "    <tr>\n",
       "      <th>13434</th>\n",
       "      <td>57b9eff912f1434591626c19</td>\n",
       "      <td>9949</td>\n",
       "      <td>472066.0</td>\n",
       "      <td>1.0</td>\n",
       "      <td>-118.666667</td>\n",
       "      <td>1.471803e+12</td>\n",
       "      <td>48.072889</td>\n",
       "      <td>-110.957181</td>\n",
       "    </tr>\n",
       "    <tr>\n",
       "      <th>14667</th>\n",
       "      <td>57cbf92412f1437531983238</td>\n",
       "      <td>9936</td>\n",
       "      <td>472066.0</td>\n",
       "      <td>1.0</td>\n",
       "      <td>-118.333333</td>\n",
       "      <td>1.472985e+12</td>\n",
       "      <td>48.072889</td>\n",
       "      <td>-110.957181</td>\n",
       "    </tr>\n",
       "    <tr>\n",
       "      <th>14668</th>\n",
       "      <td>57cbf92412f1437531983238</td>\n",
       "      <td>9941</td>\n",
       "      <td>472066.0</td>\n",
       "      <td>1.0</td>\n",
       "      <td>-123.500000</td>\n",
       "      <td>1.472985e+12</td>\n",
       "      <td>48.072889</td>\n",
       "      <td>-110.957181</td>\n",
       "    </tr>\n",
       "    <tr>\n",
       "      <th>14669</th>\n",
       "      <td>57cbfbbfcf554f22dc736cb2</td>\n",
       "      <td>9936</td>\n",
       "      <td>472066.0</td>\n",
       "      <td>1.0</td>\n",
       "      <td>-111.333333</td>\n",
       "      <td>1.472986e+12</td>\n",
       "      <td>48.072889</td>\n",
       "      <td>-110.957181</td>\n",
       "    </tr>\n",
       "    <tr>\n",
       "      <th>14670</th>\n",
       "      <td>57cbfbbfcf554f22dc736cb2</td>\n",
       "      <td>9941</td>\n",
       "      <td>472066.0</td>\n",
       "      <td>1.0</td>\n",
       "      <td>-124.666667</td>\n",
       "      <td>1.472986e+12</td>\n",
       "      <td>48.072889</td>\n",
       "      <td>-110.957181</td>\n",
       "    </tr>\n",
       "    <tr>\n",
       "      <th>14989</th>\n",
       "      <td>57cfe9e9e541cd01b30fe633</td>\n",
       "      <td>9936</td>\n",
       "      <td>472066.0</td>\n",
       "      <td>1.0</td>\n",
       "      <td>-113.666667</td>\n",
       "      <td>1.473244e+12</td>\n",
       "      <td>48.072889</td>\n",
       "      <td>-110.957181</td>\n",
       "    </tr>\n",
       "    <tr>\n",
       "      <th>28670</th>\n",
       "      <td>5843e9a6cf554f422f2b7495</td>\n",
       "      <td>9936</td>\n",
       "      <td>472066.0</td>\n",
       "      <td>1.0</td>\n",
       "      <td>-127.500000</td>\n",
       "      <td>1.480846e+12</td>\n",
       "      <td>48.072889</td>\n",
       "      <td>-110.957181</td>\n",
       "    </tr>\n",
       "    <tr>\n",
       "      <th>28671</th>\n",
       "      <td>5843e9a6cf554f422f2b7495</td>\n",
       "      <td>9941</td>\n",
       "      <td>472066.0</td>\n",
       "      <td>2.0</td>\n",
       "      <td>-135.000000</td>\n",
       "      <td>1.480846e+12</td>\n",
       "      <td>48.072889</td>\n",
       "      <td>-110.957181</td>\n",
       "    </tr>\n",
       "  </tbody>\n",
       "</table>\n",
       "</div>"
      ],
      "text/plain": [
       "                         messid  bsid       did  nseq        rssi  \\\n",
       "13431  57b99c16cf554f465ad8de48  9949  472066.0   2.0 -122.000000   \n",
       "13434  57b9eff912f1434591626c19  9949  472066.0   1.0 -118.666667   \n",
       "14667  57cbf92412f1437531983238  9936  472066.0   1.0 -118.333333   \n",
       "14668  57cbf92412f1437531983238  9941  472066.0   1.0 -123.500000   \n",
       "14669  57cbfbbfcf554f22dc736cb2  9936  472066.0   1.0 -111.333333   \n",
       "14670  57cbfbbfcf554f22dc736cb2  9941  472066.0   1.0 -124.666667   \n",
       "14989  57cfe9e9e541cd01b30fe633  9936  472066.0   1.0 -113.666667   \n",
       "28670  5843e9a6cf554f422f2b7495  9936  472066.0   1.0 -127.500000   \n",
       "28671  5843e9a6cf554f422f2b7495  9941  472066.0   2.0 -135.000000   \n",
       "\n",
       "            time_ux     bs_lat      bs_lng  \n",
       "13431  1.471782e+12  48.072889 -110.957181  \n",
       "13434  1.471803e+12  48.072889 -110.957181  \n",
       "14667  1.472985e+12  48.072889 -110.957181  \n",
       "14668  1.472985e+12  48.072889 -110.957181  \n",
       "14669  1.472986e+12  48.072889 -110.957181  \n",
       "14670  1.472986e+12  48.072889 -110.957181  \n",
       "14989  1.473244e+12  48.072889 -110.957181  \n",
       "28670  1.480846e+12  48.072889 -110.957181  \n",
       "28671  1.480846e+12  48.072889 -110.957181  "
      ]
     },
     "execution_count": 19,
     "metadata": {},
     "output_type": "execute_result"
    }
   ],
   "source": [
    "X_test[X_test.did==472066.0]"
   ]
  },
  {
   "cell_type": "code",
   "execution_count": 20,
   "metadata": {
    "id": "5ITquQ419QZn",
    "outputId": "6327eac1-5639-4fb5-eb73-6490abe0224a"
   },
   "outputs": [
    {
     "data": {
      "text/plain": [
       "0"
      ]
     },
     "execution_count": 20,
     "metadata": {},
     "output_type": "execute_result"
    }
   ],
   "source": [
    "X_test[X_test.bs_lat>60].shape[0]"
   ]
  }
 ],
 "metadata": {
  "colab": {
   "name": "8_Analyse du Xtest.ipynb",
   "provenance": []
  },
  "kernelspec": {
   "display_name": "Python 3",
   "language": "python",
   "name": "python3"
  },
  "language_info": {
   "codemirror_mode": {
    "name": "ipython",
    "version": 3
   },
   "file_extension": ".py",
   "mimetype": "text/x-python",
   "name": "python",
   "nbconvert_exporter": "python",
   "pygments_lexer": "ipython3",
   "version": "3.7.7"
  }
 },
 "nbformat": 4,
 "nbformat_minor": 1
}
